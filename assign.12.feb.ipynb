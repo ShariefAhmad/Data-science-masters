{
 "cells": [
  {
   "cell_type": "markdown",
   "id": "11d8d81d-cce1-4fc9-a7f5-92134f3c1a4f",
   "metadata": {},
   "source": [
    "ASSIGNMENT 12.02.2023"
   ]
  },
  {
   "cell_type": "code",
   "execution_count": null,
   "id": "ef77a3e2-b712-4d58-9563-49049c2c783c",
   "metadata": {},
   "outputs": [],
   "source": [
    "Q1.\"\"\"exception is an error which happens during the execution of a program,when exception happens \n",
    "python stops program execution and starts to look for any appropriate exception handler written in code \n",
    "and executes the program ratherthan popping error msg with the help of exception handlers written\n",
    "\n",
    "difference between exception and syntax error is:\n",
    "exception is a type of error which happens during execution of program but the program executes using exception handlers while syntax error is the type of error where the python fails to understand the code due to code's improper syntax and the program \n",
    "gets crashed and gets stopped right away and further code will not be executed\"\"\""
   ]
  },
  {
   "cell_type": "code",
   "execution_count": null,
   "id": "75a1680e-7d3a-4c5e-a8e6-7f9920aa0a9e",
   "metadata": {},
   "outputs": [],
   "source": [
    "Q2.\"\"\"what if exceptions are not handled:  \n",
    "the main thing is if we have a program where code is wrong, without exception handlers\n",
    "the code will not be executed but gets crashed and error msg pops on same display and \n",
    "the main disadvantage is that it will not execute the rest of the code which is written after this wrong code\"\"\""
   ]
  },
  {
   "cell_type": "code",
   "execution_count": 8,
   "id": "42f65e9a-f0c4-44ca-8fab-92699f3f594f",
   "metadata": {},
   "outputs": [
    {
     "ename": "ZeroDivisionError",
     "evalue": "division by zero",
     "output_type": "error",
     "traceback": [
      "\u001b[0;31m---------------------------------------------------------------------------\u001b[0m",
      "\u001b[0;31mZeroDivisionError\u001b[0m                         Traceback (most recent call last)",
      "Cell \u001b[0;32mIn[8], line 3\u001b[0m\n\u001b[1;32m      1\u001b[0m \u001b[38;5;66;03m#Q2.example\u001b[39;00m\n\u001b[1;32m      2\u001b[0m a\u001b[38;5;241m=\u001b[39m\u001b[38;5;241m10\u001b[39m      \n\u001b[0;32m----> 3\u001b[0m \u001b[38;5;28mprint\u001b[39m(\u001b[43ma\u001b[49m\u001b[38;5;241;43m/\u001b[39;49m\u001b[38;5;241;43m0\u001b[39;49m)\n\u001b[1;32m      4\u001b[0m \u001b[38;5;66;03m# here upon excuting the \u001b[39;00m\n",
      "\u001b[0;31mZeroDivisionError\u001b[0m: division by zero"
     ]
    }
   ],
   "source": [
    "#Q2.example\n",
    "a=10      \n",
    "print(a/0)\n",
    "print('x')\n",
    "# here upon excuting the program the execution is stopped at print(a/0) and rest print statements is also neglected"
   ]
  },
  {
   "cell_type": "code",
   "execution_count": 45,
   "id": "5963e4ab-a13e-435f-98a6-e584cf264520",
   "metadata": {},
   "outputs": [
    {
     "name": "stdout",
     "output_type": "stream",
     "text": [
      "the issue with the code is : division by zero\n",
      "i am not neglected even though code above me is wrong\n"
     ]
    }
   ],
   "source": [
    "#Q2.example\n",
    "try: \n",
    "    a=10\n",
    "    a/0\n",
    "except Exception as e:\n",
    "    print('the issue with the code is :',e) \n",
    "print('i am not neglected even though code above me is wrong') \n",
    "#here upon executing the program the execution is handled by the handler even though it is error and succeeding\n",
    "#print statement is also considered as shown in output"
   ]
  },
  {
   "cell_type": "code",
   "execution_count": 40,
   "id": "b20d6762-26bb-4f53-ac76-090b5acc42ce",
   "metadata": {},
   "outputs": [
    {
     "name": "stdin",
     "output_type": "stream",
     "text": [
      "Enter a number:  10\n",
      "Enter another number:  0\n"
     ]
    },
    {
     "name": "stdout",
     "output_type": "stream",
     "text": [
      "Error: Cannot divide by zero!\n"
     ]
    }
   ],
   "source": [
    "#Q3.'try' and 'except'are the two statements used to catch and handle the exceptions \n",
    "try:\n",
    "    n1 = int(input(\"Enter a number: \"))  # here i am trying to execute a code which may have wrong input\n",
    "    n2 = int(input(\"Enter another number: \"))\n",
    "    ratio = n1 / n2\n",
    "except ZeroDivisionError:                     # hence iam handling it with exception statement in case wrong input\n",
    "    print(\"Error: Cannot divide by zero!\")    # is given by the user \n",
    "else:\n",
    "    print(\"Result: \", ratio)    "
   ]
  },
  {
   "cell_type": "code",
   "execution_count": 7,
   "id": "28204529-4b9c-4b6a-80fb-e6a8ad8d0b63",
   "metadata": {},
   "outputs": [
    {
     "name": "stdin",
     "output_type": "stream",
     "text": [
      "Enter a number:  20\n",
      "Enter another number:  0\n"
     ]
    },
    {
     "name": "stdout",
     "output_type": "stream",
     "text": [
      "Error: Cannot divide by zero!\n",
      "thank you ,try again\n"
     ]
    }
   ],
   "source": [
    "#Q4.\n",
    "# a) try and else:'try' statemets are used when coder feels that the code is suspicious and might\n",
    "#                 give syntax error if it is not being handled by exception statements .\n",
    "#                 'else' staements are used when there will no exceptions are raised\n",
    "#b)finally:'finally' statements are written after the exceptions statement which are used when we want \n",
    "#          to execute a block of code which is completely independent of whether exceptions are raised or not\n",
    "#c)raise :  'raise'is keyword in python used in custom exception fle handling where a seperate class is called\n",
    "#            and a custom fn is made tolink with exception handling and raise is used to print the required\n",
    "#            message while exception handling is used by the python to execute wrong\n",
    "try:\n",
    "    n1 = int(input(\"Enter a number: \"))  # here i am trying to execute a code which may have wrong input\n",
    "    n2 = int(input(\"Enter another number: \"))\n",
    "    ratio = n1 / n2\n",
    "except ZeroDivisionError:                     # hence iam handling it with exception statement in case wrong input\n",
    "    print(\"Error: Cannot divide by zero!\")    # is given by the user \n",
    "else:\n",
    "    print(\"Result: \", ratio) \n",
    "finally:                                       #here the finally keyword is used to print anything independent of \n",
    "         print('thank you ,try again')         #exception handling \n",
    "#example for raise usage is shown in next question         "
   ]
  },
  {
   "cell_type": "code",
   "execution_count": 10,
   "id": "630e54f1-4b49-4a56-aff9-10b1498627e9",
   "metadata": {},
   "outputs": [
    {
     "name": "stdin",
     "output_type": "stream",
     "text": [
      "enter the age:   -20\n"
     ]
    },
    {
     "name": "stdout",
     "output_type": "stream",
     "text": [
      "-20\n"
     ]
    }
   ],
   "source": [
    "#Q5.In custom exception handlng we create our own type of exception handling depending upon any task\n",
    "#why dowe nee it?:\n",
    "age =input('enter the age:  ')\n",
    "print(age)\n",
    "#if i run the above program even by giving negative value as age, still the program executes because technically it is\n",
    "#correct but biologically it is completely wrong,to over comethis types of errors CEH is used,here a seperate class is created\n",
    "#inheriting the exception statement and fn are defined to raise the exceptions"
   ]
  },
  {
   "cell_type": "code",
   "execution_count": 46,
   "id": "4c5b43aa-4bb6-4bd5-b92b-2f624312612e",
   "metadata": {},
   "outputs": [
    {
     "name": "stdin",
     "output_type": "stream",
     "text": [
      "enter the age:   500\n"
     ]
    },
    {
     "name": "stdout",
     "output_type": "stream",
     "text": [
      "no one lives for that old\n"
     ]
    }
   ],
   "source": [
    "#Q6 here i have created CEH class to handle negative and wrong age inputs\n",
    "class validate_age(Exception):\n",
    "    def __init__(self,msg):\n",
    "        self.msg=msg\n",
    "    def proper_age(age):\n",
    "        if age<0:\n",
    "            raise validate_age('age can never be a negative value')  \n",
    "        elif age>150:                                                \n",
    "            raise validate_age('no one lives for that long')#here i have used raise kw to shoutout the wrong input by the user\n",
    "        else:\n",
    "            print('ok,that is a valid age value')\n",
    "try:\n",
    "    age =input('enter the age:  ')\n",
    "    proper_age(age) \n",
    "except validate_age as e:\n",
    "      print(e.msg)"
   ]
  }
 ],
 "metadata": {
  "kernelspec": {
   "display_name": "Python 3 (ipykernel)",
   "language": "python",
   "name": "python3"
  },
  "language_info": {
   "codemirror_mode": {
    "name": "ipython",
    "version": 3
   },
   "file_extension": ".py",
   "mimetype": "text/x-python",
   "name": "python",
   "nbconvert_exporter": "python",
   "pygments_lexer": "ipython3",
   "version": "3.10.8"
  }
 },
 "nbformat": 4,
 "nbformat_minor": 5
}
