{
 "cells": [
  {
   "cell_type": "markdown",
   "id": "fdbce314-8c3a-4ffe-8202-c9c2d583a838",
   "metadata": {},
   "source": [
    "# ASSIGNMENT | 09-02-2023  | OOPs Task"
   ]
  },
  {
   "cell_type": "code",
   "execution_count": 165,
   "id": "12585801-e893-4e4c-aef2-04098d6eb044",
   "metadata": {},
   "outputs": [],
   "source": [
    "# Q1, Create a vehicle class with an init method having instance variables as name_of_vehicle, max_speed\n",
    "# and average_of_vehicle.\n",
    "class vehicle:\n",
    "    def __init__(self, name_of_vehicle, max_speed, average_of_vehicle):\n",
    "        self.name_of_vehicle = name_of_vehicle\n",
    "        self.max_speed = max_speed\n",
    "        self.average_of_vehicle = average_of_vehicle"
   ]
  },
  {
   "cell_type": "code",
   "execution_count": 166,
   "id": "5ee0596e-ea1f-4168-83dd-7d907cccc653",
   "metadata": {},
   "outputs": [
    {
     "name": "stdout",
     "output_type": "stream",
     "text": [
      "Alto has a seating capacity of 4 passengers.\n"
     ]
    }
   ],
   "source": [
    "# Q2. Create a child class car from the vehicle class created in Que 1, which will inherit the vehicle class.\n",
    "# Create a method named seating_capacity which takes capacity as an argument and returns the name of\n",
    "# the vehicle and its seating capacity.\n",
    "class car(vehicle):\n",
    "    def seating_capacity(self, capacity):\n",
    "        return f\"{self.name_of_vehicle} has a seating capacity of {capacity} passengers.\"\n",
    "alto = Car('Alto', 150, 15)\n",
    "print(alto.seating_capacity(4))    "
   ]
  },
  {
   "cell_type": "code",
   "execution_count": 178,
   "id": "04710633-799d-4633-ae27-102d0be0965e",
   "metadata": {},
   "outputs": [
    {
     "name": "stdout",
     "output_type": "stream",
     "text": [
      "my name is Ahmad and I am 25 years old\n"
     ]
    }
   ],
   "source": [
    "# Q3. What is multiple inheritance? Write a python code to demonstrate multiple inheritance.\n",
    "# Multiple inheritance is a feature of object-oriented programming where a subclass can inherit from multiple parent classes. \n",
    "# This allows the subclass to inherit attributes and methods from all of its parent classes.\n",
    "class class1:\n",
    "    def name(self, x):\n",
    "        return f\"my name is {x}\"\n",
    "class class2:\n",
    "    def age(self, y):\n",
    "        return f\"I am {y} years old\"\n",
    "class class3(class1, class2): #here the class 3 is inheriting the class1 and class2 which we can call as multiple inheritance\n",
    "    def intro(self, name, age):\n",
    "        return f\"{self.name(name)} and {self.age(age)}\"\n",
    "student1 = class3()\n",
    "print(student1.intro('Ahmad', 25)) "
   ]
  },
  {
   "cell_type": "code",
   "execution_count": 180,
   "id": "4d626371-6705-4096-b28e-fe379116c3e1",
   "metadata": {},
   "outputs": [],
   "source": [
    "# Q4. What are getter and setter in python? Create a class and create a getter and a setter method in this\n",
    "# class.\n",
    "# Getter and setter are methods used to access and modify the values of an object's attributes. \n",
    "# The getter method returns the value of an attribute, while the setter method sets the value of an attribute.\n",
    "class student:\n",
    "    def __init__(self, name):\n",
    "        self._name = name\n",
    "    def get_name(self):\n",
    "        return self._name\n",
    "    def set_name(self, new_name):\n",
    "        self._name = new_name"
   ]
  },
  {
   "cell_type": "code",
   "execution_count": 181,
   "id": "b5ec2cf5-70ac-438f-a8c1-e13ffec33644",
   "metadata": {},
   "outputs": [
    {
     "name": "stdout",
     "output_type": "stream",
     "text": [
      "rahul\n"
     ]
    }
   ],
   "source": [
    "# example for getter method\n",
    "student = student('rahul')\n",
    "print(student.get_name())  "
   ]
  },
  {
   "cell_type": "code",
   "execution_count": 182,
   "id": "00c9d64b-2f60-4c16-a23f-757f8efe3bec",
   "metadata": {},
   "outputs": [
    {
     "name": "stdout",
     "output_type": "stream",
     "text": [
      "bill_gates\n"
     ]
    }
   ],
   "source": [
    "# example for setter method\n",
    "student.set_name('bill_gates')\n",
    "print(student.get_name())         "
   ]
  },
  {
   "cell_type": "code",
   "execution_count": 185,
   "id": "c49b0b9c-7f5e-4dc9-91e4-2a4db9a5bbb8",
   "metadata": {},
   "outputs": [
    {
     "name": "stdout",
     "output_type": "stream",
     "text": [
      "1000\n",
      "78.5\n"
     ]
    }
   ],
   "source": [
    "# Q5.What is method overriding in python? Write a python code to demonstrate method overriding.\n",
    "# Method overriding is a concept in object-oriented programming where a subclass provides its own implementation of a \n",
    "# method that is already provided by its parent class.\n",
    "class Shape:\n",
    "    def area(self):\n",
    "        print(\"To calculae the area of the shape\")\n",
    "class Rectangle(Shape):\n",
    "    def __init__(self, width, height):\n",
    "        self.width = width\n",
    "        self.height = height\n",
    "    def area(self):\n",
    "        return self.width * self.height\n",
    "class Circle(Shape):\n",
    "    def __init__(self, radius):\n",
    "        self.radius = radius\n",
    "    def area(self):\n",
    "        return 3.14 * self.radius ** 2\n",
    "rect = Rectangle(20, 50)\n",
    "circ = Circle(5)\n",
    "print(rect.area()) \n",
    "print(circ.area())"
   ]
  }
 ],
 "metadata": {
  "kernelspec": {
   "display_name": "Python 3 (ipykernel)",
   "language": "python",
   "name": "python3"
  },
  "language_info": {
   "codemirror_mode": {
    "name": "ipython",
    "version": 3
   },
   "file_extension": ".py",
   "mimetype": "text/x-python",
   "name": "python",
   "nbconvert_exporter": "python",
   "pygments_lexer": "ipython3",
   "version": "3.10.8"
  }
 },
 "nbformat": 4,
 "nbformat_minor": 5
}
