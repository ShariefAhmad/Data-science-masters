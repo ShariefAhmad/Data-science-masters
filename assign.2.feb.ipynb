{
 "cells": [
  {
   "cell_type": "markdown",
   "id": "3f2f8580-9eae-4018-be21-9e5b97959f32",
   "metadata": {},
   "source": [
    "ASSIGNMENT 02.02.23"
   ]
  },
  {
   "cell_type": "markdown",
   "id": "d82028b2-034a-46b1-a989-81b46088a069",
   "metadata": {},
   "source": [
    "# 1.characeristics of tuples \n",
    "1.tuples are data types\n",
    "2.Tuples are collections elemnets enclosed in round brackets\n",
    "3.the elements in tuples are written under qoutes if they are strings and seperated by comma\n",
    "4.tuples withhold other tuples\n",
    "5.tuples can under go indexing and slicing operations\n",
    "\n",
    "YES tuples are immutable"
   ]
  },
  {
   "cell_type": "code",
   "execution_count": 11,
   "id": "5c725a63-1737-4204-a09d-8ab29f9e7a95",
   "metadata": {
    "tags": []
   },
   "outputs": [
    {
     "data": {
      "text/plain": [
       "1"
      ]
     },
     "execution_count": 11,
     "metadata": {},
     "output_type": "execute_result"
    }
   ],
   "source": [
    "#2. count and index are the two tuple methods\n",
    "#examples\n",
    "#finding the times an element repeated in tuple using count method\n",
    "t1=(1,2,3,4,5,5,6,8,5,9,5)\n",
    "t1.count(2)"
   ]
  },
  {
   "cell_type": "code",
   "execution_count": 12,
   "id": "a39db56e-6dcd-4e02-bae5-ba28278c38eb",
   "metadata": {},
   "outputs": [
    {
     "data": {
      "text/plain": [
       "4"
      ]
     },
     "execution_count": 12,
     "metadata": {},
     "output_type": "execute_result"
    }
   ],
   "source": [
    "#index method,here the fn gives the position of input element in tuple\n",
    "t1.index(5)"
   ]
  },
  {
   "cell_type": "code",
   "execution_count": null,
   "id": "b4a6f73f-a399-4ce9-b165-76921b4f6aaa",
   "metadata": {
    "tags": []
   },
   "outputs": [],
   "source": [
    "# it is not true that tuple has only two in built methods in python"
   ]
  },
  {
   "cell_type": "code",
   "execution_count": 55,
   "id": "a15c3f6f-77c1-45b8-9810-5415a18408a9",
   "metadata": {},
   "outputs": [
    {
     "data": {
      "text/plain": [
       "[1, 2, 3, 4]"
      ]
     },
     "execution_count": 55,
     "metadata": {},
     "output_type": "execute_result"
    }
   ],
   "source": [
    "#3.set is the collection datatypes which does not allow duplication\n",
    "s1=[1,1,1,2,1,3,1,4,2,1,2,2,2,3,2,4,3,1,3,2,3,3,3,4,4,1,4,2,4,3,4,4]\n",
    "s2=set(s1)\n",
    "s1=list(s2)\n",
    "s1"
   ]
  },
  {
   "cell_type": "code",
   "execution_count": 2,
   "id": "a5a95513-69b9-4b32-a340-d5e8bf26e9cc",
   "metadata": {},
   "outputs": [
    {
     "name": "stdout",
     "output_type": "stream",
     "text": [
      "{1, 2, 3, 4, 5, 6, 7}\n"
     ]
    }
   ],
   "source": [
    "#Q4.union method is used to combine two sets into single NEW set \n",
    "set1={1,2,3,4,5}\n",
    "set2={1,3,4,5,3,1,3,5,4,5,6,6,5,4,7}\n",
    "set3=set1.union(set2)\n",
    "print(set3)"
   ]
  },
  {
   "cell_type": "code",
   "execution_count": 5,
   "id": "a4aa70be-aa28-4023-a0b6-65affe070054",
   "metadata": {},
   "outputs": [
    {
     "data": {
      "text/plain": [
       "{1, 2, 3, 4, 5, 6, 7}"
      ]
     },
     "execution_count": 5,
     "metadata": {},
     "output_type": "execute_result"
    }
   ],
   "source": [
    "# where as update method is used to modify same set by combining with other set as shown\n",
    "set1.update(set2)\n",
    "set1\n",
    "#here same set1 is modified"
   ]
  },
  {
   "cell_type": "code",
   "execution_count": 6,
   "id": "59a2e4b9-cf30-4bb4-a9fc-100e9512ab72",
   "metadata": {},
   "outputs": [
    {
     "data": {
      "text/plain": [
       "dict"
      ]
     },
     "execution_count": 6,
     "metadata": {},
     "output_type": "execute_result"
    }
   ],
   "source": [
    "#Q5.Dictionaries are the collections of elements in flower brackets like sets, stored in pair format,like keys and values which are seperated by colon\n",
    "#example\n",
    "country_capital={'india':'delhi','england':'london','japan':'tokyo'}\n",
    "type(country_capital)\n",
    "#here india,england,japan are the called keys and their pairs are called values\n",
    "#dictionaries are unordered "
   ]
  },
  {
   "cell_type": "code",
   "execution_count": 7,
   "id": "bf9f44af-5598-4040-b571-a46b280b0e9c",
   "metadata": {},
   "outputs": [
    {
     "name": "stdout",
     "output_type": "stream",
     "text": [
      "<class 'dict'> 20\n"
     ]
    }
   ],
   "source": [
    "#Q6.YES,nested dictionaries exist\n",
    "#example\n",
    "D={'class1':{'boys':10,'girls':20},'class2':{'boys':20,'girls':15}}\n",
    "info=D['class2']['boys']\n",
    "print(type(D)  , info)"
   ]
  },
  {
   "cell_type": "code",
   "execution_count": 12,
   "id": "2ce059a9-169c-4f6b-b9a7-3609ebc4a522",
   "metadata": {},
   "outputs": [
    {
     "data": {
      "text/plain": [
       "{'language': 'python',\n",
       " 'course': 'Data science masters',\n",
       " 'topics': ['python', 'machine learning', 'deep learning']}"
      ]
     },
     "execution_count": 12,
     "metadata": {},
     "output_type": "execute_result"
    }
   ],
   "source": [
    "#Q7.\n",
    "dict1={'language':'python','course':'Data science masters'}\n",
    "dict1.setdefault('topics',['python','machine learning','deep learning'])\n",
    "dict1"
   ]
  },
  {
   "cell_type": "code",
   "execution_count": 15,
   "id": "aca2fdac-bc71-4f59-9b34-4f5d5015e99c",
   "metadata": {},
   "outputs": [
    {
     "name": "stdout",
     "output_type": "stream",
     "text": [
      "dict_keys(['sport', 'teams'])\n"
     ]
    }
   ],
   "source": [
    "#Q8.the 3 object views in dictionary are\n",
    "#1.key view\n",
    "#2.value view\n",
    "#3.item view\n",
    "\n",
    "#1.key view\n",
    "dict1={'sport':'cricket','teams':['india','australia','south africa','england','srilanka','new zealand']}\n",
    "key_view=dict1.keys()\n",
    "print(key_view)"
   ]
  },
  {
   "cell_type": "code",
   "execution_count": 17,
   "id": "5cb9a151-b072-408c-89ca-4a336cf8316a",
   "metadata": {},
   "outputs": [
    {
     "name": "stdout",
     "output_type": "stream",
     "text": [
      "dict_values(['cricket', ['india', 'australia', 'south africa', 'england', 'srilanka', 'new zealand']])\n"
     ]
    }
   ],
   "source": [
    "#2.value view\n",
    "value_view=dict1.values()\n",
    "print(value_view)"
   ]
  },
  {
   "cell_type": "code",
   "execution_count": 19,
   "id": "1ac5489c-cb59-427f-bc9a-33569a2472b0",
   "metadata": {},
   "outputs": [
    {
     "name": "stdout",
     "output_type": "stream",
     "text": [
      "dict_items([('sport', 'cricket'), ('teams', ['india', 'australia', 'south africa', 'england', 'srilanka', 'new zealand'])])\n"
     ]
    }
   ],
   "source": [
    "#3.item view\n",
    "item_view=dict1.items()\n",
    "print(item_view)"
   ]
  }
 ],
 "metadata": {
  "kernelspec": {
   "display_name": "Python 3 (ipykernel)",
   "language": "python",
   "name": "python3"
  },
  "language_info": {
   "codemirror_mode": {
    "name": "ipython",
    "version": 3
   },
   "file_extension": ".py",
   "mimetype": "text/x-python",
   "name": "python",
   "nbconvert_exporter": "python",
   "pygments_lexer": "ipython3",
   "version": "3.10.8"
  }
 },
 "nbformat": 4,
 "nbformat_minor": 5
}
