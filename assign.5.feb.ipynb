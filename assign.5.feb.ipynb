{
 "cells": [
  {
   "cell_type": "markdown",
   "id": "7431b2b3-401e-44d7-a852-487c622ee495",
   "metadata": {},
   "source": [
    "ASSIGNMENT 05.02.2023"
   ]
  },
  {
   "cell_type": "markdown",
   "id": "fd4131bf-b0f5-4157-a307-8f0e2e82705d",
   "metadata": {},
   "source": [
    "Q1.class and objects in oops\n",
    "class is the  roadmap in object creation which means class defines attributes and methods that are commen \n",
    "to all objects.class is defined by a keyword called class itself "
   ]
  },
  {
   "cell_type": "code",
   "execution_count": 82,
   "id": "7288046f-d3d2-4e55-89fe-1c33d2ca445e",
   "metadata": {},
   "outputs": [
    {
     "name": "stdout",
     "output_type": "stream",
     "text": [
      "hi , welcome to india\n"
     ]
    }
   ],
   "source": [
    "#example:\n",
    "class name:             # here i have created a class by title name\n",
    "      def wlecome_msg():   #myintention is to directly use my fn created through the class i have cretaed\n",
    "          print(f'hi , welcome to india')\n",
    "rohan=name                    #rohan is the object here defined in class name   \n",
    "rohan.wlecome_msg()             #here my fn is executed directly when linked with the class "
   ]
  },
  {
   "cell_type": "markdown",
   "id": "091be904-0975-47a1-9703-afa8094ac6bf",
   "metadata": {},
   "source": [
    "Q2.four pillars of oops\n",
    "1.polymorphism\n",
    "2.inheritance\n",
    "3.encapsulation\n",
    "4.abstraction"
   ]
  },
  {
   "cell_type": "code",
   "execution_count": null,
   "id": "be6c049c-91d3-4ebd-bd54-99fb280fe824",
   "metadata": {},
   "outputs": [],
   "source": [
    "#Q3.__init__() fn is used to initialise the attributes of an object after it has been created, the main role is to set\n",
    "#the initial values of the instance variable of class"
   ]
  },
  {
   "cell_type": "code",
   "execution_count": 83,
   "id": "6e4482f2-8a60-4b8d-99fc-f811b3f6b78a",
   "metadata": {},
   "outputs": [
    {
     "data": {
      "text/plain": [
       "25"
      ]
     },
     "execution_count": 83,
     "metadata": {},
     "output_type": "execute_result"
    }
   ],
   "source": [
    "#Q3example\n",
    "class bio_data:    #first of all i have created ac lass\n",
    "    def __init__(self,name,age): # now i am defining a function as __init__ to store the attributes of the class\n",
    "            self.name=name\n",
    "            self.age=age\n",
    "    def get_age(self):\n",
    "        return self.age\n",
    "            \n",
    "person1=bio_data('ahmad',25)      # here when the class is used it directs the data to init fn to store in \n",
    "person1.get_age()                #respective positions as defined "
   ]
  },
  {
   "cell_type": "markdown",
   "id": "83830ca5-c91b-42ff-911d-17aadb2e1c7c",
   "metadata": {},
   "source": [
    "Q4.self is used to refer to the instance of a class.it is special keyword that is passed as the first \n",
    "element to the instance method.when we create instance of a class self refers to that instanceusing which you can access\n",
    "the attributes and methods "
   ]
  },
  {
   "cell_type": "markdown",
   "id": "ab614bc1-6e5e-4645-9e4e-82539db2a283",
   "metadata": {},
   "source": [
    "Q5.in pyhton inheritance is mechanism  which means a new class is created by using existing class \n",
    "the existing class is called parent class and new class is called as child class.here the new class inherits the \n",
    "functional value of the existing class"
   ]
  },
  {
   "cell_type": "code",
   "execution_count": 52,
   "id": "6b89da58-3936-49cb-84d6-52ec9f83ffeb",
   "metadata": {},
   "outputs": [
    {
     "data": {
      "text/plain": [
       "25"
      ]
     },
     "execution_count": 52,
     "metadata": {},
     "output_type": "execute_result"
    }
   ],
   "source": [
    "#Q5.types and examples\n",
    "#1.single inheritance: here the child classes keep on inheriting the before parent classes\n",
    "class parent_class:\n",
    "      def __init__(self,name,age):\n",
    "        self.name=name\n",
    "        self.age=age\n",
    "        \n",
    "class child_class(parent_class):  #i have not given any attributes in this class even though the object took the  \n",
    "      pass                        # instances understood the connections as it is specified in child class\n",
    "person1=child_class('ahmad',25)    \n",
    "person1.age"
   ]
  },
  {
   "cell_type": "code",
   "execution_count": 84,
   "id": "a6b2b27b-137b-4a3f-bd5e-7e5b3c7f4e2c",
   "metadata": {},
   "outputs": [
    {
     "name": "stdout",
     "output_type": "stream",
     "text": [
      "hi my name is sharief,and i am 25 yeras old\n",
      "my salary is Rs 20000,and i live in bangalore\n"
     ]
    }
   ],
   "source": [
    "#Q5.\n",
    "#2.multi inheritance :here one child class inherits multiple parent classes at a time\n",
    "class parent_class1:\n",
    "      def __init__(self,name,age):\n",
    "        self.name=name\n",
    "        self.age=age\n",
    "      def name_age(self):\n",
    "            print(f'hi my name is {self.name},and i am {self.age} yeras old')\n",
    "            \n",
    "class parent_class2:\n",
    "    def __init__(self,salary,city) : \n",
    "        self.salary=salary\n",
    "        self.city=city\n",
    "    def salary_city(self):\n",
    "            print(f'my salary is Rs {self.salary},and i live in {self.city}')\n",
    "\n",
    "class child_class(parent_class1,parent_class2):  #here single child class will inherit 2 parent classes at atime\n",
    "    def __init__(self,name,age,salary,city):\n",
    "        parent_class1.__init__(self,name,age)\n",
    "        parent_class2.__init__(self,salary,city) \n",
    "\n",
    "person1=child_class('sharief',25,20000,'bangalore')  \n",
    "person1.name_age()\n",
    "person1.salary_city()"
   ]
  }
 ],
 "metadata": {
  "kernelspec": {
   "display_name": "Python 3 (ipykernel)",
   "language": "python",
   "name": "python3"
  },
  "language_info": {
   "codemirror_mode": {
    "name": "ipython",
    "version": 3
   },
   "file_extension": ".py",
   "mimetype": "text/x-python",
   "name": "python",
   "nbconvert_exporter": "python",
   "pygments_lexer": "ipython3",
   "version": "3.10.8"
  }
 },
 "nbformat": 4,
 "nbformat_minor": 5
}
