{
 "cells": [
  {
   "cell_type": "markdown",
   "id": "fc1590a8-21e5-4cb4-b346-8f816268298c",
   "metadata": {},
   "source": [
    " ASSIGNMENT  29.01.23"
   ]
  },
  {
   "cell_type": "markdown",
   "id": "e3bc70c3-7a5b-482c-86b2-5a8cb270f5c4",
   "metadata": {},
   "source": [
    "1.Guido Van Rossum created the python language in 1991\n",
    "\n",
    "2.python supports object-oriented, structured, and functional programming.\n",
    "\n",
    "3.Yes, Python is a case-sensitive language\n",
    "\n",
    "4.'.py' is the correct extension to python file\n",
    "\n",
    "5.Python code is interpreted\n",
    "\n",
    "6.next tab\n",
    "\n",
    "7.'#' is the character used to single line comment in python   \n",
    "\n",
    "8.version of python can be found by importing platform and printing 'version'\n",
    "\n",
    "9.'lambda' expression is the construct used to create fn at run time\n",
    "\n",
    "10.pip stands for 'pip install packages'\n",
    "\n",
    "11.len(),max(),min(),.count(),.append() etc are the few built in fns in python\n",
    "\n",
    "12.identifiers can be of any length in python\n",
    "\n",
    "13.benifits of using python\n",
    "    1.easy to learn,practice and implement\n",
    "    2.huge community and guidence \n",
    "    3.variety of applicaton\n",
    "    4.directly interpreted does not need seperate compilation\n",
    "    5.open source and free\n",
    "    6.large libraries\n",
    "\n",
    "14.memory management in python\n",
    "    python uses technique callled automatic garbage collection to manage memory,which means \n",
    "    python interpreter automatically allocates and de-allocates the memory of object in program,\n",
    "    it also uses the technique called refernce counting to remember the refernces given to an object.\n",
    "    python also provides the tools for manual memory management.\n",
    "\n",
    "15.proceedure to install python in windows\n",
    "   -go to python website and download latest version\n",
    "   -install it,while installation select the option 'add python to system path'\n",
    "   -to set path variables go to my computer or this pc right click on page,go to properties,\n",
    "    go to advanced system setting,go to envinronment variables and under system variable go to\n",
    "    path variable and select edit and click on new and add the path to the python executable\n",
    "    which is usually located in C:\\Pythonxx\\bin(where xx is the version number)and click ok.\n",
    "        \n",
    "16.Yes,indentation is required in python        "
   ]
  },
  {
   "cell_type": "code",
   "execution_count": 26,
   "id": "6915965d-8ce1-4787-b392-f967838c2518",
   "metadata": {},
   "outputs": [
    {
     "name": "stdin",
     "output_type": "stream",
     "text": [
      "enter the number -25\n"
     ]
    },
    {
     "name": "stdout",
     "output_type": "stream",
     "text": [
      "-25  negative\n"
     ]
    }
   ],
   "source": [
    "#6.python code is defined using indentation like \n",
    "n=int(input('enter the number'))\n",
    "if n>0:\n",
    "        print(n,' is positive')\n",
    "elif n==0:\n",
    "        print(n,' Neutral number')\n",
    "else:\n",
    "    print(n,' negative')"
   ]
  },
  {
   "cell_type": "code",
   "execution_count": null,
   "id": "d7a5fb72-c175-4d5f-aa53-a3ff6ed3f537",
   "metadata": {},
   "outputs": [],
   "source": []
  }
 ],
 "metadata": {
  "kernelspec": {
   "display_name": "Python 3 (ipykernel)",
   "language": "python",
   "name": "python3"
  },
  "language_info": {
   "codemirror_mode": {
    "name": "ipython",
    "version": 3
   },
   "file_extension": ".py",
   "mimetype": "text/x-python",
   "name": "python",
   "nbconvert_exporter": "python",
   "pygments_lexer": "ipython3",
   "version": "3.10.8"
  }
 },
 "nbformat": 4,
 "nbformat_minor": 5
}
