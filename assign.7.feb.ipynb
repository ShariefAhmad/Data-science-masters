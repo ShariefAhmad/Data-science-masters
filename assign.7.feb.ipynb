{
 "cells": [
  {
   "cell_type": "code",
   "execution_count": null,
   "id": "47ef1259-6c8e-4e0a-9e11-74ff192b5d82",
   "metadata": {},
   "outputs": [],
   "source": [
    "ASSIGNMENT 07.02.2023  TASK-2"
   ]
  },
  {
   "cell_type": "code",
   "execution_count": null,
   "id": "f77519ee-fdbe-4fbd-bb8a-b407baffd1be",
   "metadata": {},
   "outputs": [
    {
     "name": "stdin",
     "output_type": "stream",
     "text": [
      "Enter the password:  AAaa!@#123\n"
     ]
    },
    {
     "name": "stdout",
     "output_type": "stream",
     "text": [
      "Valid password\n"
     ]
    }
   ],
   "source": [
    "\"\"\"#Q1. You are writing code for a company. The requirement of the company is that you create a python\n",
    "function that will check whether the password entered by the user is correct or not. The function should\n",
    "take the password as input and return the string “Valid Password” if the entered password follows the\n",
    "below-given password guidelines else it should return “Invalid Password”.\n",
    "Note: 1. The Password should contain at least two uppercase letters and at least two lowercase letters.\n",
    "2. The Password should contain at least a number and three special characters.\n",
    "3. The length of the password should be 10 characters long.\"\"\"\n",
    "import string\n",
    "uppercase_alphabets = string.ascii_uppercase\n",
    "lowercase_alphabets = string.ascii_lowercase\n",
    "u_a=list(uppercase_alphabets)\n",
    "u_l=list(lowercase_alphabets)\n",
    "s_c = ['!', '@', '#', '$', '%', '^', '&', '*']\n",
    "def ver_pass():\n",
    "    p_w = str(input('Enter the password: '))\n",
    "    p_w_l = list(p_w)\n",
    "    if len(p_w_l) != 10:\n",
    "        print(\"Invalid password length\")\n",
    "        return\n",
    "    count = 0\n",
    "    count1 = 0\n",
    "    count2 = 0\n",
    "    for elem in p_w_l:\n",
    "        if elem in u_a:\n",
    "            count += 1\n",
    "            if count == 2:\n",
    "                break\n",
    "        for elem in p_w_l:\n",
    "            if elem in l_a:\n",
    "                count1 += 1\n",
    "                if count1 == 2:\n",
    "                    break\n",
    "        for elem in p_w_l:\n",
    "            if elem in s_c:\n",
    "                count2 += 1\n",
    "                if count2 == 3:\n",
    "                    print(\"Valid password\")\n",
    "                    return\n",
    "    print(\"Invalid password\")\n",
    "    return\n",
    "ver_pass()"
   ]
  },
  {
   "cell_type": "code",
   "execution_count": 22,
   "id": "91a3b18d-0bda-4dc9-aa71-2e8652088193",
   "metadata": {},
   "outputs": [
    {
     "name": "stdout",
     "output_type": "stream",
     "text": [
      "False\n"
     ]
    }
   ],
   "source": [
    "#Q2.\n",
    "#1.to check whether a string starts with a particular letter or not\n",
    "s = 'apple'\n",
    "s_l = list(s)\n",
    "sv = lambda: True if s_l[0]=='p' else False\n",
    "print(sv())"
   ]
  },
  {
   "cell_type": "code",
   "execution_count": 23,
   "id": "3d241110-1180-4495-b2e2-0ede1e4995c1",
   "metadata": {},
   "outputs": [
    {
     "name": "stdout",
     "output_type": "stream",
     "text": [
      "False\n"
     ]
    }
   ],
   "source": [
    "#Q2.\n",
    "#2.to Check if the string is numeric\n",
    "s = 'apple'\n",
    "sv = lambda: True if type(s)==int else False\n",
    "print(sv())"
   ]
  },
  {
   "cell_type": "code",
   "execution_count": 25,
   "id": "aa111e2b-b8c2-4b46-a58b-2d37a3c56516",
   "metadata": {},
   "outputs": [
    {
     "name": "stdout",
     "output_type": "stream",
     "text": [
      "[('orange', 80), ('mango', 99), ('grapes', 1000)]\n"
     ]
    }
   ],
   "source": [
    "#Q2.\n",
    "#3.Sort a list of tuples having fruit names and their quantity. [(\"mango\",99),(\"orange\",80), (\"grapes\", 1000)]\n",
    "fruits = [(\"mango\", 99), (\"orange\", 80), (\"grapes\", 1000)]\n",
    "sorted_fruits = sorted(fruits, key=lambda x: x[1])\n",
    "print(sorted_fruits)"
   ]
  },
  {
   "cell_type": "code",
   "execution_count": 34,
   "id": "56b9fe77-6595-4534-a99b-55ee609b22a4",
   "metadata": {},
   "outputs": [
    {
     "data": {
      "text/plain": [
       "[1, 4, 9, 16, 25, 36, 49, 64, 81, 100]"
      ]
     },
     "execution_count": 34,
     "metadata": {},
     "output_type": "execute_result"
    }
   ],
   "source": [
    "#Q2.\n",
    "#4. Find the squares of numbers from 1 to 10\n",
    "squares = [i * i for i in range(1,11)]\n",
    "squares"
   ]
  },
  {
   "cell_type": "code",
   "execution_count": 39,
   "id": "e52b0b9f-0983-45c0-be8e-01838633d3d3",
   "metadata": {},
   "outputs": [
    {
     "data": {
      "text/plain": [
       "[1.0, 1.26, 1.442, 1.587, 1.71, 1.817, 1.913, 2.0, 2.08, 2.154]"
      ]
     },
     "execution_count": 39,
     "metadata": {},
     "output_type": "execute_result"
    }
   ],
   "source": [
    "#Q2.\n",
    "#5.Find the cube root of numbers from 1 to 10\n",
    "cube_root = [round(i **(1/3),3) for i in range(1,11)]\n",
    "cube_root"
   ]
  },
  {
   "cell_type": "code",
   "execution_count": 49,
   "id": "97a40dfa-1ebd-4b61-b781-5bb8e06d8a7b",
   "metadata": {},
   "outputs": [
    {
     "name": "stdin",
     "output_type": "stream",
     "text": [
      "enter the no.:   41254\n"
     ]
    },
    {
     "name": "stdout",
     "output_type": "stream",
     "text": [
      "even\n"
     ]
    }
   ],
   "source": [
    "#Q2.\n",
    "#6.Check if a given number is even\n",
    "num =int(input('enter the no.:  '))\n",
    "is_even = lambda: 'even' if num%2==0 else 'not_even'\n",
    "print(is_even())"
   ]
  },
  {
   "cell_type": "code",
   "execution_count": 51,
   "id": "ede2387b-16b3-4e8f-85dc-efb516ed6beb",
   "metadata": {},
   "outputs": [
    {
     "data": {
      "text/plain": [
       "[1, 3, 5, 7, 9]"
      ]
     },
     "execution_count": 51,
     "metadata": {},
     "output_type": "execute_result"
    }
   ],
   "source": [
    "#Q2.\n",
    "#7.Filter odd numbers from the given list. \n",
    "l=[1,2,3,4,5,6,7,8,9,10]\n",
    "l1=filter(lambda i:i%2!=0,l)\n",
    "list(l1)"
   ]
  },
  {
   "cell_type": "code",
   "execution_count": 54,
   "id": "4ef95be2-1a28-4f2b-85df-df26464b09c8",
   "metadata": {},
   "outputs": [
    {
     "name": "stdout",
     "output_type": "stream",
     "text": [
      "[1, 2, 3, 4, 5, 6, 0]\n"
     ]
    },
    {
     "data": {
      "text/plain": [
       "[-1, -2, -3, -4, -5]"
      ]
     },
     "execution_count": 54,
     "metadata": {},
     "output_type": "execute_result"
    }
   ],
   "source": [
    "#Q2.\n",
    "#8 Sort a list of integers into positive and negative integers lists.\n",
    "l=[1,2,3,4,5,6,-1,-2,-3,-4,-5,0]\n",
    "l1=filter(lambda i:i>=0,l)\n",
    "l2=filter(lambda i:i<0,l)\n",
    "print(list(l1))\n",
    "list(l2)"
   ]
  }
 ],
 "metadata": {
  "kernelspec": {
   "display_name": "Python 3 (ipykernel)",
   "language": "python",
   "name": "python3"
  },
  "language_info": {
   "codemirror_mode": {
    "name": "ipython",
    "version": 3
   },
   "file_extension": ".py",
   "mimetype": "text/x-python",
   "name": "python",
   "nbconvert_exporter": "python",
   "pygments_lexer": "ipython3",
   "version": "3.10.8"
  }
 },
 "nbformat": 4,
 "nbformat_minor": 5
}
