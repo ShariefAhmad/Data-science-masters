{
 "cells": [
  {
   "cell_type": "markdown",
   "id": "2e2bf55d-5f6a-48f8-89ee-7f67fa0413b3",
   "metadata": {},
   "source": [
    "ASSIGNMENT 10.02.2023  OOPs assignment"
   ]
  },
  {
   "cell_type": "markdown",
   "id": "90962317-dfcc-465d-b833-29ce5d0abae8",
   "metadata": {},
   "source": [
    "Q1. Which function is used to open a file? What are the different modes of opening a file? Explain each mode\n",
    "of file opening.?\n",
    "\n",
    "the functon 'open() 'is used to open a file \n",
    "\n",
    "read mode:'r':this mode isused for reading a file, if file does not exists it will show the error\n",
    "\n",
    "write mode:'w':this mode is used to write somethigng in file ,if file does not exists,it will be created\n",
    "\n",
    "append mode:'a':this mde is used to append the existing file provided file should exist in writing mode\n",
    "\n",
    "text mode:'t':this mode isused to open the file in text mode using.txt format"
   ]
  },
  {
   "cell_type": "markdown",
   "id": "e1033e15-21fd-45b8-aa21-9d1b56679f03",
   "metadata": {},
   "source": [
    "Q2. Why close() function is used? Why is it important to close a file?\n",
    "\n",
    "'close()' fn is used to make sure that the contents in file is saved and cannot be modified without being opened again .\n",
    "\n",
    "it is imp to use close()  beacuse it will make sure thatthe file leaves its connections with reasources it is using to keep the  file opened and modified and also if file is not closed,any changed made will not be saved."
   ]
  },
  {
   "cell_type": "code",
   "execution_count": 70,
   "id": "32433475-0cdb-48c2-b9c8-b33c215f8638",
   "metadata": {},
   "outputs": [
    {
     "data": {
      "text/plain": [
       "' i want to become data scientist'"
      ]
     },
     "execution_count": 70,
     "metadata": {},
     "output_type": "execute_result"
    }
   ],
   "source": [
    "# Q3. Write a python program to create a text file. Write ‘I want to become a Data Scientist’ in that file. Then\n",
    "# close the file. Open this file and read the content of the file.\n",
    "f=open('file1.txt',\"w\")\n",
    "f.write(' i want to become data scientist')\n",
    "f.close()\n",
    "f=open('file1.txt',\"r\")\n",
    "f.read()"
   ]
  },
  {
   "cell_type": "markdown",
   "id": "3d916865-570d-4107-bf80-29cb495d68a8",
   "metadata": {},
   "source": [
    "Q4. Explain the following with python code: read(), readline() and readlines()."
   ]
  },
  {
   "cell_type": "code",
   "execution_count": 71,
   "id": "842135d4-a137-46e1-854f-d046dda7cbf2",
   "metadata": {},
   "outputs": [
    {
     "data": {
      "text/plain": [
       "' a for apple \\n b for bat \\n c for cat '"
      ]
     },
     "execution_count": 71,
     "metadata": {},
     "output_type": "execute_result"
    }
   ],
   "source": [
    "#1. read():in this method the entire content of file is returned as strings\n",
    "# example:\n",
    "f=open('file2.txt',\"w\")\n",
    "f.write(' a for apple \\n b for bat \\n c for cat ')\n",
    "f.close()\n",
    "f=open('file2.txt',\"r\")\n",
    "f.read()"
   ]
  },
  {
   "cell_type": "code",
   "execution_count": 72,
   "id": "911c5fcd-8386-4091-8c39-6e4c82b53773",
   "metadata": {},
   "outputs": [
    {
     "data": {
      "text/plain": [
       "' a for apple \\n'"
      ]
     },
     "execution_count": 72,
     "metadata": {},
     "output_type": "execute_result"
    }
   ],
   "source": [
    "#2. readline():in this method the the first line of file is returned as string\n",
    "# example:\n",
    "f=open('file2.txt',\"r\")\n",
    "f.readline()"
   ]
  },
  {
   "cell_type": "code",
   "execution_count": 73,
   "id": "54e380dd-b806-4654-96a1-ecff03139afc",
   "metadata": {},
   "outputs": [
    {
     "data": {
      "text/plain": [
       "[' a for apple \\n', ' b for bat \\n', ' c for cat ']"
      ]
     },
     "execution_count": 73,
     "metadata": {},
     "output_type": "execute_result"
    }
   ],
   "source": [
    "#3. readlines():in this method the entire content of the file is returned as string in a list\n",
    "# example:\n",
    "f=open('file2.txt',\"r\")\n",
    "f.readlines()"
   ]
  },
  {
   "cell_type": "markdown",
   "id": "60966d4e-ea75-40cf-b47c-90cab8207564",
   "metadata": {},
   "source": [
    "Q5. Explain why with statement is used with open(). What is the advantage of using with statement and\n",
    "open() together?\n",
    "\n",
    "'with' statement along with 'open()'is used to make sure that the file properly opened and closed even if the exception \n",
    "is raised\n",
    "\n",
    "advantage\n",
    "\n",
    "-it prevents the file corruption when the file is not closed\n",
    "\n",
    "-it eliminates the neccessity of the close() method\n",
    "\n",
    "-it makes sure that the code it readable and easily accessible\n"
   ]
  },
  {
   "cell_type": "markdown",
   "id": "a395e3b4-fcd1-48a1-a567-eff951c32576",
   "metadata": {},
   "source": [
    "Q6. Explain the write() and writelines() functions. Give a suitable example.\n"
   ]
  },
  {
   "cell_type": "code",
   "execution_count": 74,
   "id": "20a6aaa2-a43b-48be-80ff-c15ceb9d4e0b",
   "metadata": {},
   "outputs": [
    {
     "data": {
      "text/plain": [
       "'second line'"
      ]
     },
     "execution_count": 74,
     "metadata": {},
     "output_type": "execute_result"
    }
   ],
   "source": [
    "# Q6. Explain the write() and writelines() functions. Give a suitable example.\n",
    "#1. write(): this fn is used overwrite the existing file and auto deleting the previous content \n",
    "f=open('file5.txt','w')\n",
    "f.write('1st line')\n",
    "f.close()\n",
    "# here i have just created a text file and saved a sentence\n",
    "#now if update agian using write fn the previous text gets erased  and new line gets saved\n",
    "f=open('file5.txt','w')\n",
    "f.write('second line')\n",
    "f.close()\n",
    "f=open('file5.txt','r')\n",
    "f.read()"
   ]
  },
  {
   "cell_type": "code",
   "execution_count": 75,
   "id": "95a07d29-9fdc-43cf-8647-5ac5679ae3b9",
   "metadata": {},
   "outputs": [
    {
     "name": "stdout",
     "output_type": "stream",
     "text": [
      "3rd line\n",
      "4th line\n",
      "5th line\n"
     ]
    }
   ],
   "source": [
    "#1.writelines(): this fn is used write multiple content in list format and can be organized in line fromats\n",
    "f = open('file5.txt', 'w')\n",
    "f.writelines(['3rd line\\n', '4th line\\n', '5th line'])\n",
    "f.close()\n",
    "f = open('file5.txt', 'r')\n",
    "print(f.read())\n",
    "f.close()"
   ]
  },
  {
   "cell_type": "code",
   "execution_count": null,
   "id": "41f09b21-37cd-4193-ac6e-5335b988a6b8",
   "metadata": {},
   "outputs": [],
   "source": []
  }
 ],
 "metadata": {
  "kernelspec": {
   "display_name": "Python 3 (ipykernel)",
   "language": "python",
   "name": "python3"
  },
  "language_info": {
   "codemirror_mode": {
    "name": "ipython",
    "version": 3
   },
   "file_extension": ".py",
   "mimetype": "text/x-python",
   "name": "python",
   "nbconvert_exporter": "python",
   "pygments_lexer": "ipython3",
   "version": "3.10.8"
  }
 },
 "nbformat": 4,
 "nbformat_minor": 5
}
