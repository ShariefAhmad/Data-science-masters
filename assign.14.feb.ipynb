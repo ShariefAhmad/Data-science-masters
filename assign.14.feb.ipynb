{
 "cells": [
  {
   "cell_type": "markdown",
   "id": "4ccad118-971f-441e-98aa-84eded18a90e",
   "metadata": {},
   "source": [
    "# ASSIGNMENT | 14.02.2023 | Multithreading"
   ]
  },
  {
   "cell_type": "markdown",
   "id": "db3e2a35-9283-4a4a-bc58-b5f905a69d8e",
   "metadata": {},
   "source": [
    "Q1).what is multithreading in python? why is it used? Name the module used to handle threads in python \n",
    "\n",
    "Multithreading in Python refers to the ability to run multiple threads simultaneously within a single process. Each thread operates\n",
    "independently of the others, but they all share the same memory space and can access the same variables and data structures. \n",
    "\n",
    "Multithreading is used in Python to improve the performance of applications that perform time-consuming tasks, such as input/output operations, network communication, or heavy calculations. By using multithreading, a program can execute multiple tasks in parallel, making better use of the available CPU resources and reducing the overall execution time.\n",
    "\n",
    "In Python, the \"threading\" module is used to handle threads.\n",
    "\n"
   ]
  },
  {
   "cell_type": "markdown",
   "id": "661f3178-964c-487d-a0ad-4fdbc5e8497c",
   "metadata": {},
   "source": [
    "Q2) why threading module used? write the use of the following functions \\\n",
    "activeCount() \\\n",
    "currentThread() \\\n",
    "enumerate() \n",
    "\n",
    "The threading module is used in to create and manage threads in the program. Threads are a way to execute multiple code paths simultaneously within\n",
    "the single process. threading module provides high-level interface for making and managing threads in the program. \n",
    "\n",
    "activeCount(): This function prints the number of threads which are active in the ongoing process.active thread is a thread which is started \n",
    "but not yet finished.\n",
    "\n",
    "currentThread(): This function returns  reference to a current thread object. The thread object returned by this function can be used to identify\n",
    "the current thread or to access its attributes and methods.\n",
    "\n",
    "enumerate(): This method returns a list of all thread objects that are currently active in the program. The list includes all threads that have been \n",
    "started but have not yet completed their execution. \n"
   ]
  },
  {
   "cell_type": "markdown",
   "id": "6daf7c25-8151-455d-b1f9-c78bab284b4f",
   "metadata": {},
   "source": [
    "Q3. Explain the following functions \\\n",
    "run() \\\n",
    "start() \\\n",
    "join() \\\n",
    "isAlive() \\\n",
    "run(): This method is called when a new thread is started. It contains the code that will be executed by the thread. The run() method should be overridden \n",
    "in a subclass of Thread to implement the desired behavior of the thread.\n",
    "\n",
    "start(): This method starts a new thread by calling the run() method of the thread object. When start() is called, a new thread is spawned and the run() \n",
    "method is executed in the new thread. This allows multiple threads to run concurrently in a Python program.\n",
    "\n",
    "join(): This method blocks the calling thread until the thread on which it is called completes its execution. The calling thread will not continue until the \n",
    "thread being joined has finished. This is useful when you need to ensure that a thread has completed its task before the program continues execution.\n",
    "\n",
    "isAlive(): This method returns a boolean value indicating whether the thread is currently executing. If the thread is still running, this method will return \n",
    "True. If the thread has finished executing or has not been started, this method will return False."
   ]
  },
  {
   "cell_type": "code",
   "execution_count": 38,
   "id": "4f37bbb8-3653-4cd9-a88c-d4842a3e4373",
   "metadata": {},
   "outputs": [
    {
     "name": "stdout",
     "output_type": "stream",
     "text": [
      "Squares: [1, 4, 9, 16, 25, 36, 49, 64, 81]\n",
      "Cubes: [1, 8, 27, 64, 125, 216, 343, 512, 729]\n"
     ]
    }
   ],
   "source": [
    "# 4. write a python program to create two threads. Thread one must print the list of squares and thread\n",
    "# two must print the list of cubes\n",
    "import threading\n",
    "def print_squares(numbers):\n",
    "    squares = [n**2 for n in numbers]\n",
    "    print(\"Squares:\", squares)\n",
    "def print_cubes(numbers):\n",
    "    cubes = [n**3 for n in numbers]\n",
    "    print(\"Cubes:\", cubes)\n",
    "numbers = range(1, 10)\n",
    "t1 = threading.Thread(target=print_squares, args=(numbers,))\n",
    "t2 = threading.Thread(target=print_cubes, args=(numbers,))\n",
    "t1.start()\n",
    "t2.start()\n",
    "t1.join()\n",
    "t2.join() "
   ]
  },
  {
   "cell_type": "markdown",
   "id": "6142b8b8-9fb2-4ae4-9b7e-43f54a1d9c14",
   "metadata": {},
   "source": [
    "Q5.State advantages and disadvantages of multithreading\\\n",
    "Advantages:\\\n",
    "Fast performance: Multithreading  improves the performance of a program by allowing multiple threads to execute concurrently. This can lead\n",
    "to faster execution times and better resource utilization. \\\n",
    "Better resource management: Multithreading allows a program to use system resources more efficiently by distributing tasks across multiple threads. \n",
    "This can help reduce the overall system load and improve the utilization of resources such as CPU and memory. \\\n",
    "Responsiveness: Multithreading can make a program more responsive by allowing it to perform multiple tasks at the same time. This can be particularly \n",
    "useful in applications that require real-time processing or user interaction.\\\n",
    "Modular design: Multithreading allows for a modular design of a program, where different parts of the program can be executed concurrently in separate \n",
    "threads. This can make the program more manageable and easier to maintain. \\\n",
    "\n",
    "Disadvantages: \\\n",
    "Increased memory usage: Multithreading can increase memory usage, as each thread requires its own stack and thread-specific data. This can be a concern in \n",
    "memory-constrained environments. \\\n",
    "Complexity: Multithreading can add complexity to a program, making it harder to design and debug. Managing shared resources and avoiding race conditions \n",
    "can be particularly challenging. \\\n",
    "Synchronization overhead: Multithreading can introduce synchronization overhead, which is the cost of coordinating access to shared resources among multiple\n",
    "threads. This can slow down the program and reduce its overall performance. \\\n",
    "Deadlocks and race conditions: Multithreading can introduce deadlocks and race conditions, which are difficult to debug and fix. Deadlocks occur when two\n",
    "or more threads are blocked waiting for each other to release a resource, while race conditions occur when multiple threads access a shared resource in an\n",
    "unpredictable order. \\\n"
   ]
  },
  {
   "cell_type": "markdown",
   "id": "fc6dcc2b-63b2-4451-80b7-2543f621eb1a",
   "metadata": {},
   "source": [
    "Q6. Explain deadlocks and race conditions.\\\n",
    "Deadlocks and race conditions are two common issues that can arise in multithreaded programming. \\\n",
    "\n",
    "Deadlocks occur when two or more threads are blocked waiting for each other to release a resource. This can happen when two or more threads acquire \n",
    "locks on resources in a different order. For example, consider two threads that need to acquire two locks, A and B, to proceed with their execution. \n",
    "If thread 1 acquires lock A and thread 2 acquires lock B, but then thread 1 tries to acquire lock B while thread 2 tries to acquire lock A, both threads\n",
    "will be blocked waiting for the other to release the lock they need. This can lead to a situation where the program hangs indefinitely.\n",
    "\n",
    "Race conditions occur when multiple threads access a shared resource in an unpredictable order, leading to unexpected behavior. For example, consider\n",
    "two threads that increment a counter variable by one. If both threads read the value of the counter at the same time, increment it, and write the updated\n",
    "value back to memory, they may both end up writing the same incremented value, effectively losing one of the increments. This can happen because the order\n",
    "in which the threads access the counter is not guaranteed, leading to unpredictable results."
   ]
  },
  {
   "cell_type": "code",
   "execution_count": null,
   "id": "5041aaef-c765-44b2-abf2-5a035edd9da2",
   "metadata": {},
   "outputs": [],
   "source": []
  }
 ],
 "metadata": {
  "kernelspec": {
   "display_name": "Python 3 (ipykernel)",
   "language": "python",
   "name": "python3"
  },
  "language_info": {
   "codemirror_mode": {
    "name": "ipython",
    "version": 3
   },
   "file_extension": ".py",
   "mimetype": "text/x-python",
   "name": "python",
   "nbconvert_exporter": "python",
   "pygments_lexer": "ipython3",
   "version": "3.10.8"
  }
 },
 "nbformat": 4,
 "nbformat_minor": 5
}
