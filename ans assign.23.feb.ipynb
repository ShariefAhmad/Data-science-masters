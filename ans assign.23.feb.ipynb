{
 "cells": [
  {
   "cell_type": "markdown",
   "id": "e69e1b93-0cbd-4921-b6e6-ce84b545e356",
   "metadata": {},
   "source": [
    "ASSIGNMENT 23.02.2023/ PANDAS-BASICS"
   ]
  },
  {
   "cell_type": "code",
   "execution_count": 3,
   "id": "37d9ddee-2d61-4159-8fcb-744e7a6b806d",
   "metadata": {},
   "outputs": [
    {
     "name": "stdout",
     "output_type": "stream",
     "text": [
      "0     4\n",
      "1     8\n",
      "2    15\n",
      "3    16\n",
      "4    23\n",
      "5    42\n",
      "dtype: int64\n"
     ]
    }
   ],
   "source": [
    "# Q1. Create a Pandas Series that contains the following data: 4, 8, 15, 16, 23, and 42. Then, print the series.\n",
    "import pandas as pd\n",
    "l1=[4, 8, 15, 16, 23,42]\n",
    "a=pd.Series(l1)\n",
    "print(a)"
   ]
  },
  {
   "cell_type": "code",
   "execution_count": 5,
   "id": "68573fda-b494-46fc-87e5-b594fa19b928",
   "metadata": {},
   "outputs": [
    {
     "name": "stdout",
     "output_type": "stream",
     "text": [
      "0        1\n",
      "1        2\n",
      "2        1\n",
      "3        1\n",
      "4        5\n",
      "5    apple\n",
      "6      bat\n",
      "7      cat\n",
      "8     3.14\n",
      "9        $\n",
      "dtype: object\n"
     ]
    }
   ],
   "source": [
    "# Q2. Create a variable of list type containing 10 elements in it, and apply pandas.Series function on the\n",
    "#  variable print it.\n",
    "l2=[1,2,1,1,5,'apple','bat','cat',3.14,'$']\n",
    "b=pd.Series(l2)\n",
    "print(b)"
   ]
  },
  {
   "cell_type": "code",
   "execution_count": 14,
   "id": "f7ba79bc-9dfa-486b-a82c-b6904ba220f3",
   "metadata": {},
   "outputs": [
    {
     "name": "stdout",
     "output_type": "stream",
     "text": [
      "     Name  Age  Gender\n",
      "0   Alice   25  Female\n",
      "1     Bob   30    Male\n",
      "2  Claire   27  Female\n"
     ]
    },
    {
     "data": {
      "text/plain": [
       "pandas.core.frame.DataFrame"
      ]
     },
     "execution_count": 14,
     "metadata": {},
     "output_type": "execute_result"
    }
   ],
   "source": [
    "# Q3. Create a Pandas DataFrame that contains the following data:\n",
    "my_data=[['Alice',25,'Female'],['Bob',30,'Male'],['Claire',27,'Female']]\n",
    "my_column=['Name','Age','Gender']\n",
    "table=pd.DataFrame( data=my_data,columns=my_column)\n",
    "print(table)\n",
    "type(table)"
   ]
  },
  {
   "cell_type": "code",
   "execution_count": 21,
   "id": "d459b6fb-ac31-4091-93df-894c6ff77e12",
   "metadata": {},
   "outputs": [
    {
     "name": "stdout",
     "output_type": "stream",
     "text": [
      "0    1\n",
      "1    2\n",
      "2    3\n",
      "3    4\n",
      "4    5\n",
      "dtype: int64 <class 'pandas.core.series.Series'>\n",
      "     name  age gender\n",
      "0   sneha   25      F\n",
      "1   rohan   30      M\n",
      "2  salman   35      M <class 'pandas.core.frame.DataFrame'>\n"
     ]
    }
   ],
   "source": [
    "# # Q4. What is ‘DataFrame’ in pandas and how is it different from pandas.series? Explain with an example.\n",
    "# DataFrame is a 2 dimensional type of data structure with diffrent typs of columns where as the panda series 1 dimensional\n",
    "# array that can hold any type of data\n",
    "import pandas as pd\n",
    "s = pd.Series([1, 2, 3, 4, 5])  # here i have filled one type of data with 1 dimensional array\n",
    "df = pd.DataFrame({\n",
    "    'name': ['sneha','rohan','salman'],\n",
    "    'age': [25, 30, 35 ],                 #here the data is 2 dimensional\n",
    "    'gender': ['F', 'M', 'M']\n",
    "})\n",
    "print(s,type(s)) # if they are print together\n",
    "print(df,type(df))"
   ]
  },
  {
   "cell_type": "code",
   "execution_count": 27,
   "id": "97f6aa97-5566-4c9e-8473-91e5e68edb22",
   "metadata": {},
   "outputs": [
    {
     "name": "stdout",
     "output_type": "stream",
     "text": [
      "    Name  Age  Gender\n",
      "0  Alice   25  Female\n",
      "     Name  Age  Gender\n",
      "2  Claire   27  Female\n"
     ]
    }
   ],
   "source": [
    "#  Q5. What are some common functions you can use to manipulate data in a Pandas DataFrame? Can\n",
    "# you give an example of when you might use one of these functions?\n",
    "\n",
    "#  head(),tail(),fillna(),drop()  are the some fns\n",
    "# head():it is used when we want to consider and print first 5 rows or first n rows of the the table\n",
    "# tail():it is used when we wantto  consider and print last 5 rows or last n rows of the the table\n",
    "print(table.head(1)) # trying to print first row\n",
    "print(table.tail(1)) #trying to print last row"
   ]
  },
  {
   "cell_type": "code",
   "execution_count": null,
   "id": "ebae914c-d98a-4c22-9830-6e6697cfc92e",
   "metadata": {},
   "outputs": [],
   "source": [
    "# Q6. Which of the following is mutable in nature Series, DataFrame, Panel?\n",
    "# ans: the  Series, DataFrame are mutable in nature unlike panel which is immutable "
   ]
  },
  {
   "cell_type": "code",
   "execution_count": 30,
   "id": "d94848ec-da9e-46aa-b126-159348a73102",
   "metadata": {},
   "outputs": [
    {
     "data": {
      "text/html": [
       "<div>\n",
       "<style scoped>\n",
       "    .dataframe tbody tr th:only-of-type {\n",
       "        vertical-align: middle;\n",
       "    }\n",
       "\n",
       "    .dataframe tbody tr th {\n",
       "        vertical-align: top;\n",
       "    }\n",
       "\n",
       "    .dataframe thead th {\n",
       "        text-align: right;\n",
       "    }\n",
       "</style>\n",
       "<table border=\"1\" class=\"dataframe\">\n",
       "  <thead>\n",
       "    <tr style=\"text-align: right;\">\n",
       "      <th></th>\n",
       "      <th>Name</th>\n",
       "      <th>Age</th>\n",
       "      <th>Gender</th>\n",
       "      <th>location</th>\n",
       "    </tr>\n",
       "  </thead>\n",
       "  <tbody>\n",
       "    <tr>\n",
       "      <th>0</th>\n",
       "      <td>rahul</td>\n",
       "      <td>25</td>\n",
       "      <td>M</td>\n",
       "      <td>mysore</td>\n",
       "    </tr>\n",
       "    <tr>\n",
       "      <th>1</th>\n",
       "      <td>tanvir</td>\n",
       "      <td>26</td>\n",
       "      <td>M</td>\n",
       "      <td>mysore</td>\n",
       "    </tr>\n",
       "    <tr>\n",
       "      <th>2</th>\n",
       "      <td>salman</td>\n",
       "      <td>27</td>\n",
       "      <td>M</td>\n",
       "      <td>bangalore</td>\n",
       "    </tr>\n",
       "    <tr>\n",
       "      <th>3</th>\n",
       "      <td>siddiq</td>\n",
       "      <td>29</td>\n",
       "      <td>M</td>\n",
       "      <td>dubai</td>\n",
       "    </tr>\n",
       "  </tbody>\n",
       "</table>\n",
       "</div>"
      ],
      "text/plain": [
       "     Name  Age Gender   location\n",
       "0   rahul   25      M     mysore\n",
       "1  tanvir   26      M     mysore\n",
       "2  salman   27      M  bangalore\n",
       "3  siddiq   29      M      dubai"
      ]
     },
     "execution_count": 30,
     "metadata": {},
     "output_type": "execute_result"
    }
   ],
   "source": [
    "# Q7. Create a DataFrame using multiple Series. Explain with an example.\n",
    "name = pd.Series(['rahul', 'tanvir','salman', 'siddiq'])\n",
    "age = pd.Series([25,26,27,29])\n",
    "gender = pd.Series(['M', 'M', 'M', 'M'])\n",
    "location=pd.Series(['mysore','mysore','bangalore','dubai'])\n",
    "df = pd.DataFrame({'Name': name,'Age': age,'Gender': gender,'location':location})\n",
    "df"
   ]
  },
  {
   "cell_type": "code",
   "execution_count": null,
   "id": "be10e7da-eb0e-4333-b419-3cb0e9d163ec",
   "metadata": {},
   "outputs": [],
   "source": []
  }
 ],
 "metadata": {
  "kernelspec": {
   "display_name": "Python 3 (ipykernel)",
   "language": "python",
   "name": "python3"
  },
  "language_info": {
   "codemirror_mode": {
    "name": "ipython",
    "version": 3
   },
   "file_extension": ".py",
   "mimetype": "text/x-python",
   "name": "python",
   "nbconvert_exporter": "python",
   "pygments_lexer": "ipython3",
   "version": "3.10.8"
  }
 },
 "nbformat": 4,
 "nbformat_minor": 5
}
