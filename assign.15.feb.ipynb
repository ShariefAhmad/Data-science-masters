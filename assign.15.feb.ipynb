{
 "cells": [
  {
   "cell_type": "markdown",
   "id": "54d36c02-22d4-4a18-b3a6-6ad366318735",
   "metadata": {},
   "source": [
    "# ASSIGNMENT | 15.02.2023 | Multiprocessing\n",
    "\n"
   ]
  },
  {
   "cell_type": "markdown",
   "id": "f4a37d7d-457c-4c93-869f-d5917a94f8c5",
   "metadata": {},
   "source": [
    "Q1.What is multiprocessing in python? Why is it useful?\\\n",
    "Multiprocessing in Python refers to the ability to run multiple processes in parallel, each with its own memory space and resources. \n",
    "It is useful because it allows Python programs to take advantage of multiple CPUs and cores, enabling faster execution of computationally intensive tasks.\\\n",
    "\n",
    "multiprocessing involves running multiple processes, each with its own copy of the Python interpreter. This allows for true parallelism, as each process can \n",
    "run on a separate CPU or core, enabling faster processing of large data sets, complex calculations, and other resource-intensive tasks.\n"
   ]
  },
  {
   "cell_type": "markdown",
   "id": "3c04f878-80e3-4155-8ed9-ac7777d49b0d",
   "metadata": {},
   "source": [
    "Q2.What are the differences between multiprocessing and multithreading?\n",
    "\n",
    "CPU usage: In multiprocessing, each process runs on a separate CPU or core, enabling true parallelism. In multithreading, multiple threads run within the \n",
    "same process and share the CPU resources, which can lead to less efficient use of CPU time.\n",
    "\n",
    "Overhead: Creating and managing multiple processes involves more overhead than creating and managing multiple threads. This can make multiprocessing\n",
    "slower to start up than multithreading.\n",
    "\n",
    "Communication: Interprocess communication (IPC) in multiprocessing requires explicit communication mechanisms such as pipes, queues, or shared memory.\n",
    "In multithreading, communication between threads can occur more easily and efficiently using shared variables or message passing.\n",
    "\n",
    "Complexity: Multiprocessing is generally more complex to program than multithreading, due to the need to manage multiple processes and explicitly \n",
    "coordinate communication between them.\n",
    "\n",
    "Memory: In multiprocessing, each process has its own memory space, which is separate from the memory space of other processes. In multithreading, \n",
    "multiple threads share the same memory space within a single process."
   ]
  },
  {
   "cell_type": "code",
   "execution_count": 4,
   "id": "a95520e5-1ade-423c-8261-9ba697e9ecc4",
   "metadata": {},
   "outputs": [
    {
     "name": "stdout",
     "output_type": "stream",
     "text": [
      "orange\n",
      "apple\n"
     ]
    }
   ],
   "source": [
    "# Q3.Write a python code to create a process using the multiprocessing module.\n",
    "import multiprocessing\n",
    "def cpu1():\n",
    "    print(\"apple\")\n",
    "if __name__==\"__main__\":\n",
    "    m=multiprocessing.Process(target=cpu1)\n",
    "    print(\"orange\")\n",
    "    m.start()\n",
    "    m.join()\n",
    "# in output 'orange' in printed by main cpu and 'apple' s by new process"
   ]
  },
  {
   "cell_type": "markdown",
   "id": "93fffee9-6865-4a38-b7ea-797f8b42fbba",
   "metadata": {},
   "source": [
    "Q4.What is a multiprocessing pool in python? Why is it used?\\\n",
    "A multiprocessing pool in Python is a way to create a pool of worker processes that can execute tasks in parallel. \n",
    "The pool manages a fixed number of worker processes, which can be used to execute multiple tasks concurrently.\n",
    "\n",
    "The multiprocessing pool is provided by the multiprocessing.Pool class, which allows you to create a pool of worker processes \n",
    "and submit tasks to be executed. The map method of the pool can be used to apply a function to each item in an iterable, such as a list, and return the \n",
    "results as a list."
   ]
  },
  {
   "cell_type": "code",
   "execution_count": 9,
   "id": "510920de-026e-4d31-90c1-256b746128f1",
   "metadata": {},
   "outputs": [
    {
     "name": "stdout",
     "output_type": "stream",
     "text": [
      "[1.73, 2.0, 2.24, 2.45, 2.45, 2.65, 9.33, 2.83, 2.83]\n"
     ]
    }
   ],
   "source": [
    "# Q5. How can we create a pool of worker processes in python using the multiprocessing module?\n",
    "#printing the square root of numbers in list using multiprocessing pool\n",
    "def sq_root(n):\n",
    "    return round(n**(1/2),2)\n",
    "if __name__ == '__main__':\n",
    "    with multiprocessing.Pool(processes=5) as pool : #here i am creating pool of worker processes and submiting task tobe executed\n",
    "        out =pool.map(sq_root , [3,4,5,6,6,7,87,8,8])\n",
    "        print(out)\n",
    "# In this example, we define a sq_root fn that takes an input parameter data, processes it, and returns the result. We then create a pool\n",
    "# of worker processes with 5 workers using the multiprocessing.Pool class, and apply the worker function to each item in a list using the map method\n",
    "# of the pool. The map method divides the input list into chunks and assigns each chunk to a worker process to process in parallel. The results are \n",
    "# returned as a list, which we then print to the console.        "
   ]
  },
  {
   "cell_type": "code",
   "execution_count": 71,
   "id": "b64f9841-667f-4f75-85f9-2a0b4c2011e6",
   "metadata": {},
   "outputs": [
    {
     "name": "stdout",
     "output_type": "stream",
     "text": [
      "number: 1\n",
      "number: 2\n",
      "number: 3number:\n",
      " 4\n"
     ]
    }
   ],
   "source": [
    "# Q6. Write a python program to create 4 processes, each process should print a different number using the\n",
    "# multiprocessing module in python.\n",
    "import multiprocessing\n",
    "def print_num(n):\n",
    "    print(\"number:\", n)\n",
    "if __name__ == '__main__':\n",
    "    p1 = multiprocessing.Process(target=print_num, args=(1,))\n",
    "    p2 = multiprocessing.Process(target=print_num, args=(2,))\n",
    "    p3 = multiprocessing.Process(target=print_num, args=(3,))\n",
    "    p4 = multiprocessing.Process(target=print_num, args=(4,))\n",
    "    p1.start() \n",
    "    p2.start()\n",
    "    p3.start()\n",
    "    p4.start()"
   ]
  }
 ],
 "metadata": {
  "kernelspec": {
   "display_name": "Python 3 (ipykernel)",
   "language": "python",
   "name": "python3"
  },
  "language_info": {
   "codemirror_mode": {
    "name": "ipython",
    "version": 3
   },
   "file_extension": ".py",
   "mimetype": "text/x-python",
   "name": "python",
   "nbconvert_exporter": "python",
   "pygments_lexer": "ipython3",
   "version": "3.10.8"
  }
 },
 "nbformat": 4,
 "nbformat_minor": 5
}
