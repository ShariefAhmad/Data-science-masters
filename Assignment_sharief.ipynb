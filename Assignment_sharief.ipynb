{
 "cells": [
  {
   "cell_type": "code",
   "execution_count": 2,
   "id": "7f9db364-9d0e-4493-a0b0-d83f7cc073c4",
   "metadata": {},
   "outputs": [
    {
     "name": "stdin",
     "output_type": "stream",
     "text": [
      "enter your age: 25\n"
     ]
    },
    {
     "name": "stdout",
     "output_type": "stream",
     "text": [
      "you are young blood\n"
     ]
    }
   ],
   "source": [
    "##Task\n",
    "## Take a input of age\n",
    "## check whether age >=18 and age<=45\n",
    "## display a message you are young blood\n",
    "\n",
    "age=int(input('enter your age:'))\n",
    "if  age>=18 and age<=45 :\n",
    "    print('you are young blood')\n",
    "else:\n",
    "    print('you are time is to retire now')\n",
    "    "
   ]
  },
  {
   "cell_type": "code",
   "execution_count": null,
   "id": "cf804668-4e91-4bc4-8490-1fcc88748cf7",
   "metadata": {},
   "outputs": [
    {
     "name": "stdout",
     "output_type": "stream",
     "text": [
      "enter the price of your product: \n"
     ]
    },
    {
     "name": "stdin",
     "output_type": "stream",
     "text": [
      "None 522\n"
     ]
    },
    {
     "name": "stdout",
     "output_type": "stream",
     "text": [
      "your discounted price is 313.2\n"
     ]
    }
   ],
   "source": [
    "## mall - input the product price\n",
    "## product >3000 rs 20% off\n",
    "## price is ==4000 you get a trip to Goa\n",
    "## print the product price after removing the discount\n",
    "## product >=2000 rs and <=3000 30% off\n",
    "## print the product price after removing the discount\n",
    "## price ==2999  u will get adiitional gift\n",
    "## product 100 rs and <=2000 40% off\n",
    "## print the product price after removing the discount\n",
    "\n",
    "price=int(input(print('enter the price of your product: ')))\n",
    "if  price>3000:\n",
    "    if price==4000:\n",
    "        print('you get a goa trip ')\n",
    "    print(f'your discounted price is {price*.8}')    \n",
    "elif price>=2000 and price<=3000:\n",
    "     if price==2999:\n",
    "        print('you will get an additional gift ')                          \n",
    "        print(f'your discounted price is {price*.7}')\n",
    "elif price>=100 and price<2000:\n",
    "     print(f'your discounted price is {price*.6}')      \n",
    "else:\n",
    "      print('bohot bohot namashkar')\n",
    " "
   ]
  },
  {
   "cell_type": "code",
   "execution_count": 106,
   "id": "3e97c15c-9290-4452-aa44-ab7a3e9bf4e8",
   "metadata": {},
   "outputs": [
    {
     "name": "stdout",
     "output_type": "stream",
     "text": [
      "          * \n",
      "        * * * \n",
      "      * * * * * \n",
      "    * * * * * * * \n",
      "  * * * * * * * * * \n"
     ]
    }
   ],
   "source": [
    "n = 5 \n",
    "for i in range(n): \n",
    "   for j in range(i, n): \n",
    "      print(' ', end=' ') \n",
    "   for j in range(i):\n",
    "      print('*', end=' ')\n",
    "   for j in range(i+1):\n",
    "      print('*', end=' ')\n",
    "   print()"
   ]
  },
  {
   "cell_type": "code",
   "execution_count": null,
   "id": "87b56ac9-a140-4359-9825-6af50cb172b8",
   "metadata": {},
   "outputs": [],
   "source": []
  },
  {
   "cell_type": "code",
   "execution_count": null,
   "id": "64f73fb9-210b-4f57-956b-6be4a8332c1d",
   "metadata": {},
   "outputs": [],
   "source": []
  }
 ],
 "metadata": {
  "kernelspec": {
   "display_name": "Python 3 (ipykernel)",
   "language": "python",
   "name": "python3"
  },
  "language_info": {
   "codemirror_mode": {
    "name": "ipython",
    "version": 3
   },
   "file_extension": ".py",
   "mimetype": "text/x-python",
   "name": "python",
   "nbconvert_exporter": "python",
   "pygments_lexer": "ipython3",
   "version": "3.10.8"
  }
 },
 "nbformat": 4,
 "nbformat_minor": 5
}
