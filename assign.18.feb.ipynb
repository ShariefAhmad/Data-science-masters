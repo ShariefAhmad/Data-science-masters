{
 "cells": [
  {
   "cell_type": "markdown",
   "id": "0c4ad583-8224-4113-9c20-c4c164c2631a",
   "metadata": {},
   "source": [
    "# ASSIGNMENT | 18.02.2023 | Web Api"
   ]
  },
  {
   "cell_type": "markdown",
   "id": "42958d2d-4c6e-4d02-bb3a-cd53b38ec055",
   "metadata": {},
   "source": [
    "Q1. What is an API? Give an example, where an API is used in real life.\\\n",
    "An API, or Application Programming Interface, is a set of protocols and tools for building software applications.\n",
    "It defines a set of rules for how software components should interact with each other.\n",
    "\n",
    "One example of an API being used in real life scrapping data from e-commerce websites\n",
    "This API allows developers to embed ecommerce data into their own websites or applications and customize them according to their needs. ."
   ]
  },
  {
   "cell_type": "markdown",
   "id": "25deab90-f375-4a5f-8061-2a95d673a3d7",
   "metadata": {},
   "source": [
    "Q2.Give advantages and disadvantages of using API.\n",
    "\n",
    "Advantages of using API:\\\n",
    "Allows for easier integration of different software systems.\\\n",
    "Provides a standard way for different software components to communicate with each other.\\\n",
    "Saves time and resources by allowing developers to reuse existing code and functionality.\\\n",
    "Enables developers to build more complex applications by leveraging the functionality provided by APIs.\n",
    "\n",
    "Disadvantages of using API:\\\n",
    "APIs can be complex to use and require specialized knowledge to implement.\\\n",
    "APIs can be subject to changes and updates, which can cause compatibility issues with existing software.\\\n",
    "Security concerns may arise if APIs are not properly secured and authenticated.\\\n",
    "Dependence on third-party APIs can create additional dependencies and potential points of failure in the software system."
   ]
  },
  {
   "cell_type": "markdown",
   "id": "419c0426-359b-404f-9582-890a6efec6b1",
   "metadata": {},
   "source": [
    "Q3. What is a Web API? Differentiate between API and Web API.\\\n",
    "A Web API, or Web Application Programming Interface, is an API that is accessed through the web using HTTP\n",
    "and can be used by web developers to interact with external software components. A Web API allows for communication between different \n",
    "web services or web applications.\n",
    "\n",
    "The main difference between API and Web API is the way they are accessed. APIs can be accessed through various\n",
    "protocols such as local function calls, network sockets, and inter-process communication, while Web APIs are accessed using\n",
    "HTTP over the web."
   ]
  },
  {
   "cell_type": "markdown",
   "id": "48b6e0c1-a51f-4df8-8d09-82691267a90f",
   "metadata": {},
   "source": [
    "Q4. Explain REST and SOAP Architecture. Mention shortcomings of SOAP.\\\n",
    "\n",
    "REST, or Representational State Transfer, is an architectural style for building web services that uses HTTP for communication between clients and servers. \n",
    "RESTful web services are designed to be scalable, flexible, and easy to maintain.\n",
    "\n",
    "SOAP, or Simple Object Access Protocol, is an XML-based protocol for exchanging data between applications over the internet. SOAP uses XML messages to format\n",
    "and transfer data and can be used with a variety of transport protocols such as HTTP, SMTP, and TCP.\n",
    "\n",
    "Shortcomings of SOAP include:\\\n",
    "Complexity: SOAP is a complex protocol and can be difficult to implement and use compared to simpler protocols like REST.\\\n",
    "Overhead: SOAP uses XML to format and transfer data, which can add overhead and increase network traffic compared to more lightweight protocols.\\\n",
    "Lack of support for web standards: SOAP does not always support web standards such as caching and browser back/forward buttons.\\\n",
    "Poor performance: SOAP can be slower than other protocols due to the additional overhead and complexity."
   ]
  },
  {
   "cell_type": "markdown",
   "id": "ecc609e6-0de6-461a-8488-ea83465e40db",
   "metadata": {},
   "source": [
    "Q5.Differentiate between REST and SOAP.\n",
    "\n",
    "The main differences between REST and SOAP are:\\\n",
    "Protocol: REST uses HTTP as its protocol, while SOAP can use a variety of protocols such as HTTP, SMTP, and TCP.\\\n",
    "Data format: REST typically uses lightweight data formats such as JSON and XML, while SOAP uses XML.\\\n",
    "Complexity: REST is simpler and easier to use compared to SOAP, which can be complex and difficult to implement.\\\n",
    "Performance: REST is generally faster and more efficient than SOAP due to its lightweight data format and simplicity.\\\n",
    "Caching: REST supports caching, while SOAP does not.\\\n",
    "Statelessness: REST is stateless, meaning that each request contains all the necessary information to complete it, while SOAP can maintain state between requests."
   ]
  }
 ],
 "metadata": {
  "kernelspec": {
   "display_name": "Python 3 (ipykernel)",
   "language": "python",
   "name": "python3"
  },
  "language_info": {
   "codemirror_mode": {
    "name": "ipython",
    "version": 3
   },
   "file_extension": ".py",
   "mimetype": "text/x-python",
   "name": "python",
   "nbconvert_exporter": "python",
   "pygments_lexer": "ipython3",
   "version": "3.10.8"
  }
 },
 "nbformat": 4,
 "nbformat_minor": 5
}
