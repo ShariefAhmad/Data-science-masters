{
 "cells": [
  {
   "cell_type": "markdown",
   "id": "23575573-1df2-4761-a65c-c7b46917a929",
   "metadata": {},
   "source": [
    "ASSIGNMENT 30.01.23"
   ]
  },
  {
   "cell_type": "code",
   "execution_count": 8,
   "id": "45f35af1-5a11-4dcf-bb0c-66c2af5c5f50",
   "metadata": {},
   "outputs": [
    {
     "name": "stdin",
     "output_type": "stream",
     "text": [
      "enter your percentage:   65\n"
     ]
    },
    {
     "name": "stdout",
     "output_type": "stream",
     "text": [
      "for 65% your Grade is: C\n"
     ]
    }
   ],
   "source": [
    "#Q1.program to find the percentage from and display the grade\n",
    "perc=int(input('enter your percentage:  '))\n",
    "if perc>90:\n",
    "    print(f'for {perc}% your Grade is : A') \n",
    "elif perc>80 and perc<=90:\n",
    "    print(f'for {perc}% your Grade is: B') \n",
    "elif perc>=60 and perc<=80:\n",
    "    print(f'for {perc}% your Grade is: C') \n",
    "else :\n",
    "    print(f'for {perc}% your Grade is: D')     "
   ]
  },
  {
   "cell_type": "code",
   "execution_count": 38,
   "id": "e4c8d888-12a5-4bac-a069-ac2bad7b576b",
   "metadata": {},
   "outputs": [
    {
     "name": "stdin",
     "output_type": "stream",
     "text": [
      "enter the cost price of your bike:   72000\n"
     ]
    },
    {
     "name": "stdout",
     "output_type": "stream",
     "text": [
      "The percentage of tax for Rs 72000 of cost price of bike is :10% \n",
      "your road tax to be paid is: Rs 7200.0\n"
     ]
    }
   ],
   "source": [
    "#Q2.program to accept the bike price and display the corresponding percentage of tax\n",
    "price=int(input('enter the cost price of your bike:  '))\n",
    "if price>100000:\n",
    "    print(f'The percentage of tax for Rs {price} of cost price of bike is :15% \\nyour road tax to be paid is: Rs {price*.15}')\n",
    "elif price<=100000 and price >50000:\n",
    "    print(f'The percentage of tax for Rs {price} of cost price of bike is :10% \\nyour road tax to be paid is: Rs {price*.10}')\n",
    "else :\n",
    "    print(f'The percentage of tax for Rs {price} of cost price of bike is :5% \\nyour road tax to be paid is: Rs {price*.05}')    \n",
    "    "
   ]
  },
  {
   "cell_type": "code",
   "execution_count": 12,
   "id": "62b6d492-a846-45fc-86f8-b337608312e1",
   "metadata": {},
   "outputs": [
    {
     "name": "stdin",
     "output_type": "stream",
     "text": [
      "enter the name of the city:  ghsdgh\n"
     ]
    },
    {
     "name": "stdout",
     "output_type": "stream",
     "text": [
      "Improper input\n"
     ]
    }
   ],
   "source": [
    "#Q3.accept any city fromuser to display monument\n",
    "city=str(input('enter the name of the city: '))\n",
    "if city=='Delhi' or city=='delhi':\n",
    "         print(f'The monument in {city} is: Redfort')\n",
    "elif city=='Agra' or city=='agra':\n",
    "         print(f'The monument in {city} is: Taj Mahal')\n",
    "elif city=='Jaipur' or city=='jaipur':\n",
    "         print(f'The monument in {city} is: Jal Mahal')    \n",
    "else:\n",
    "     print('Improper input') "
   ]
  },
  {
   "cell_type": "code",
   "execution_count": 16,
   "id": "28d067b9-1d87-46f0-9959-18a7b1550613",
   "metadata": {},
   "outputs": [
    {
     "name": "stdin",
     "output_type": "stream",
     "text": [
      "Enter a number:  12\n"
     ]
    },
    {
     "name": "stdout",
     "output_type": "stream",
     "text": [
      "The number 12 can be divided 1 times by 3  before it becomes less than or equal to 10.\n"
     ]
    }
   ],
   "source": [
    "#Q4.program to check howmany times a number can be divisible by 3 before it is less than or equal to 10\n",
    "number1 = int(input(\"Enter a number: \"))\n",
    "count = 0 \n",
    "number=number1\n",
    "while number > 10 :\n",
    "    number = number / 3 \n",
    "    count += 1 \n",
    "print(f\"The number {number1} can be divided {count} times by 3  before it becomes less than or equal to 10.\")  "
   ]
  },
  {
   "cell_type": "code",
   "execution_count": 174,
   "id": "bf5ab813-72bb-435f-87d2-4ebd778b9fd2",
   "metadata": {},
   "outputs": [
    {
     "name": "stdout",
     "output_type": "stream",
     "text": [
      "55\n"
     ]
    }
   ],
   "source": [
    "#Q5.why and when to use while loop\n",
    "\"\"\"while loop is used when when the code is to be executed repeatedly till the applied condition is satisfied, \n",
    "it works as cycleand works till condition is true \"\"\"\n",
    "\"\"\"example:\n",
    " __to find the sum of natural number within 10\n",
    "Here we make null variable by name sum and i as starting point,so when we use while loop we mention the  stopping\n",
    "point as where to stop that is till i is less than 10. sum becomes 1 in next line and i increments to   2  in next\n",
    "line again the cycle repeats because of property of while loop again here sum becomes 3 and i is again incremented \n",
    "to 3 and the cycle repeats till apllied condition is satisfied\"\"\"\n",
    "n=10                    \n",
    "sum=0\n",
    "i=1\n",
    "while i<=n:\n",
    "      sum+=i\n",
    "      i+=1\n",
    "print(sum)   "
   ]
  },
  {
   "cell_type": "code",
   "execution_count": 179,
   "id": "94ecca97-2c8f-46f8-b915-25fcb4685d40",
   "metadata": {},
   "outputs": [
    {
     "name": "stdout",
     "output_type": "stream",
     "text": [
      "*\n",
      "**\n",
      "***\n",
      "****\n",
      "*****\n",
      "******\n"
     ]
    }
   ],
   "source": [
    "#Q6. three different patterns using nested loop\n",
    "for i in range(1,7):\n",
    "    for j in range(1,i+1):\n",
    "        print('*',end='')\n",
    "    print()    "
   ]
  },
  {
   "cell_type": "code",
   "execution_count": 182,
   "id": "1b454369-3e62-4df5-b418-d541f381ac84",
   "metadata": {},
   "outputs": [
    {
     "name": "stdout",
     "output_type": "stream",
     "text": [
      "******\n",
      "*****\n",
      "****\n",
      "***\n",
      "**\n",
      "*\n"
     ]
    }
   ],
   "source": [
    "for i in range(6,0,-1):\n",
    "    for j in range(1,i+1):\n",
    "        print('*',end='')\n",
    "    print()   "
   ]
  },
  {
   "cell_type": "code",
   "execution_count": 186,
   "id": "0c6f5f83-bcb8-4a47-a56b-61f8e033d109",
   "metadata": {},
   "outputs": [
    {
     "name": "stdout",
     "output_type": "stream",
     "text": [
      "     *\n",
      "    ***\n",
      "   *****\n",
      "  *******\n",
      " *********\n",
      "***********\n"
     ]
    }
   ],
   "source": [
    "for i in range(1, 7):\n",
    "    for j in range(1, 7 - i):\n",
    "        print(\" \", end=\"\")\n",
    "    for k in range(1, i * 2):\n",
    "        print(\"*\", end=\"\")\n",
    "    print()\n"
   ]
  },
  {
   "cell_type": "code",
   "execution_count": 10,
   "id": "75b2141c-c5c8-4ca0-996c-8bd969d4c67f",
   "metadata": {},
   "outputs": [
    {
     "name": "stdout",
     "output_type": "stream",
     "text": [
      "10\n",
      "9\n",
      "8\n",
      "7\n",
      "6\n",
      "5\n",
      "4\n",
      "3\n",
      "2\n",
      "1\n"
     ]
    }
   ],
   "source": [
    "#Q7 reversing a whileloop to get numbers from 10 to 1\n",
    "n=10\n",
    "while n>=1:\n",
    "    print(n)\n",
    "    n-=1     "
   ]
  },
  {
   "cell_type": "code",
   "execution_count": null,
   "id": "b5c80383-1e8f-4e65-acba-bd216aee864b",
   "metadata": {},
   "outputs": [],
   "source": [
    "#8 same as Q7"
   ]
  },
  {
   "cell_type": "code",
   "execution_count": null,
   "id": "22eea5ce-41cc-4218-80e8-377b58b17ed8",
   "metadata": {},
   "outputs": [],
   "source": []
  },
  {
   "cell_type": "code",
   "execution_count": null,
   "id": "07828593-1398-4ae6-883e-bfd2a7d8e589",
   "metadata": {},
   "outputs": [],
   "source": [
    "\n"
   ]
  }
 ],
 "metadata": {
  "kernelspec": {
   "display_name": "Python 3 (ipykernel)",
   "language": "python",
   "name": "python3"
  },
  "language_info": {
   "codemirror_mode": {
    "name": "ipython",
    "version": 3
   },
   "file_extension": ".py",
   "mimetype": "text/x-python",
   "name": "python",
   "nbconvert_exporter": "python",
   "pygments_lexer": "ipython3",
   "version": "3.10.8"
  }
 },
 "nbformat": 4,
 "nbformat_minor": 5
}
