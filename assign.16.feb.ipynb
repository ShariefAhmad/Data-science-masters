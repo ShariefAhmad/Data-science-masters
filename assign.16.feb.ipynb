{
 "cells": [
  {
   "cell_type": "markdown",
   "id": "506c3868-3f74-4274-b1a0-4b686a473081",
   "metadata": {},
   "source": [
    "# ASSIGNMENT | 16.02.2023 | MySql"
   ]
  },
  {
   "cell_type": "markdown",
   "id": "57cf535c-4501-4285-ab59-38bfe6e6a715",
   "metadata": {},
   "source": [
    "Q1. What is a database? Differentiate between SQL and NoSQL databases.\n",
    "\n",
    "In the field of data science, databases serve as a vital component for storing and managing large volumes of \n",
    "structured and unstructured data. They play a significant role in many data science workflows and are utilized to \n",
    "store data from various sources, including web applications, social media, and sensors.Data scientists rely on databases \n",
    "to efficiently manage and analyze data, leveraging a range of tools and technologies to achieve this. \n",
    " \n",
    "Structured Query Language (SQL) database is used  to retrieve and manipulate data from relational databases,and the data is stored in tabular like formats,,,\n",
    "while NoSQL databases are ideal for managing unstructured or semi-structured dataand datas are stored in flexible formats"
   ]
  },
  {
   "cell_type": "code",
   "execution_count": null,
   "id": "2274a29a-f117-479c-b0a0-869e4f50236a",
   "metadata": {},
   "outputs": [],
   "source": [
    "#Q2. What is DDL? Explain why CREATE, DROP, ALTER, and TRUNCATE are used with an example.\n",
    "Data Definition Language (DDL) is a set of commands that allow users to define and manage the structure of a database, \n",
    "including tables, indexes, constraints, and other database objects. \n",
    "\n",
    "1.CREATE: The CREATE command is used to create new database objects, such as tables, views, indexes, and constraints. \n",
    "For example, to create a new table in a database, \n",
    "ex:           CREATE TABLE table_name (column1 datatype1, column2 datatype2); \n",
    "\n",
    "2.DROP: The DROP command is used to remove existing database objects, such as tables, views, and indexes. For example, to\n",
    "drop a table from a database.\n",
    "ex:                              DROP TABLE table_name;\n",
    "\n",
    "3.ALTER: The ALTER command is used to modify the structure of an existing database object, such as a table, view, or index. For example, to add a new \n",
    "column to an existing table in a database. \n",
    "ex:                            ALTER TABLE table_name ADD column_name datatype;\n",
    "\n",
    "4.TRUNCATE: The TRUNCATE command is used to delete all data from a table without dropping the table\n",
    "itself. This command is useful when a user wants to remove all records from a table quickly.\n",
    "ex:                      TRUNCATE command is as follows: TRUNCATE TABLE table_name"
   ]
  },
  {
   "cell_type": "markdown",
   "id": "4ca1e39c-5d6b-40df-b9ef-e1273d9debee",
   "metadata": {},
   "source": [
    "Q3. What is DML? Explain INSERT, UPDATE, and DELETE with an example?\n",
    "\n",
    "DML stand data manupilation language which is subset of SQL used to manage and manipulate data within database\n",
    "\n",
    "1.INSERT:it is used to insert new commands into existing table or a new table\n",
    "\n",
    "ex:  INSERT INTO employees (id, name, age, salary)\n",
    "     VALUES (1, 'rahul', 30, 50000);\n",
    "     here a table is created by name  employees and columns as id,name,age,salary and respective values are inserted\n",
    "\n",
    "2.UPDATE:it is used to update the existing table  \n",
    "\n",
    "ex:UPDATE employees here the existing table getting updated by update fn\n",
    "   SET salary = 60000 \n",
    "                           #here id 1 gets updated\n",
    "   WHERE id = 1; \n",
    "   \n",
    "3.DELETE: it is used to delete a perticular data in a table.  \n",
    "\n",
    "ex:DELETE FROM employees\n",
    "   WHERE id = 1;"
   ]
  },
  {
   "cell_type": "markdown",
   "id": "2d244234-41f3-4ada-b124-bdfc03763604",
   "metadata": {},
   "source": [
    "Q4. What is DQL? Explain SELECT with an example.\n",
    "\n",
    "DQL stands for data query language which is subset of SQL and is used to collect the data from tables or database\n",
    "\n",
    "syntax: SELECT * file_name.table_name;\n",
    "\n",
    "here all the items in table are displayed in tabular form since we have used '*' which means 'all'\n",
    "      "
   ]
  },
  {
   "cell_type": "code",
   "execution_count": null,
   "id": "43704089-f2ed-45c7-827b-5af5f585bdf5",
   "metadata": {},
   "outputs": [],
   "source": [
    "Q5. Explain Primary Key and Foreign Key.\n",
    "\n",
    "Primary Key:In SQL, a primary key is a column or a set of columns that uniquely identifies each row in a table. It is used to enforce \n",
    "the integrity of data in a database and to ensure that each record in a table is unique. In SQL, the primary key constraint\n",
    "is used to enforce the uniqueness of the values in the primary key column or columns. The syntax for creating a primary key \n",
    "constraint in SQL is as follows:CREATE TABLE table_name (\n",
    "                                column1 data_type PRIMARY KEY,\n",
    "                                column2 data_type, ...\n",
    "                                );\n",
    "\n",
    "Foreign Key:In SQL, a foreign key is a column or a set of columns in a table that refers to the primary key of another table. \n",
    "It establishes a link between two tables and is used to enforce referential integrity between them. In SQL, the foreign key \n",
    "constraint is used to enforce the relationship between tables. The syntax for creating a foreign key constraint in SQL is as \n",
    "follows:CREATE TABLE table_name (\n",
    "         column1 data_type,\n",
    "         column2 data_type,...\n",
    "         FOREIGN KEY (column_name) REFERENCES other_table(primary_key_column)\n",
    "           );    "
   ]
  },
  {
   "cell_type": "code",
   "execution_count": null,
   "id": "5fb5bcaa-66a2-48d4-b574-62225d211357",
   "metadata": {},
   "outputs": [],
   "source": [
    "Q6. Write a python code to connect MySQL to python. Explain the cursor() and execute() method.\n",
    "\n",
    "import mysql.connector\n",
    "mydb = mysql.connector.connect(\n",
    "  host=\"localhost\",\n",
    "  user=\"user_name\",       #it is the std python code to connect the python  to sql\n",
    "  password=\"password\"\n",
    ")\n",
    "cursor():it is a method creates a cursor object that allows us to execute SQL queries on the database. \n",
    "The cursor behaves as a pointer to a specific row within result set.\n",
    "\n",
    "execute():this method is used to execute an SQL query on the database. It takes a single parameter, \n",
    "which is the SQL query to be executed. "
   ]
  },
  {
   "cell_type": "code",
   "execution_count": null,
   "id": "610d339a-c34d-4c02-973d-a2dfb233348b",
   "metadata": {},
   "outputs": [],
   "source": [
    "Q7. Give the order of execution of SQL clauses in an SQL query.\n",
    "\n",
    "In an SQL query, the clauses are executed in the following order:\n",
    "\n",
    "SELECT: This clause is used to retrieve data from a database. The SELECT clause is executed first \n",
    "and the result set is created based on the specified columns, table, and any conditions in the WHERE clause.\n",
    "\n",
    "FROM: This clause specifies the table from which the data will be retrieved. The table specified in the\n",
    "FROM clause should be available in a database.\n",
    "\n",
    "WHERE: This clause is used to filter out a data based on a given condition. The WHERE clause is executed after \n",
    "the SELECT and FROM clauses, and it determines which rows will have to be included in a result set.\n",
    "\n",
    "GROUP BY: This clause is used to group the result set depending on one or more column. The GROUP BY clause is executed \n",
    "after a WHERE clause and it determines how should the data needed to be grouped.\n",
    "\n",
    "HAVING: This clause is used to filter the groups based on a specified condition. The HAVING clause is executed after \n",
    "the GROUP BY clause, and it decides which groups will be included in a result set.\n",
    "\n",
    "ORDER BY: This clause is used to sort the result set based on one or more columns. The ORDER BY clause is executed after \n",
    "the GROUP BY and HAVING clauses  and it decides how the data should be sorted.\n",
    "\n",
    "LIMIT: This clause is used to limit the number of rows created by the query. The LIMIT clause is executed last, after all \n",
    "the other clauses, and it determines how many rows will be included in the result set."
   ]
  }
 ],
 "metadata": {
  "kernelspec": {
   "display_name": "Python 3 (ipykernel)",
   "language": "python",
   "name": "python3"
  },
  "language_info": {
   "codemirror_mode": {
    "name": "ipython",
    "version": 3
   },
   "file_extension": ".py",
   "mimetype": "text/x-python",
   "name": "python",
   "nbconvert_exporter": "python",
   "pygments_lexer": "ipython3",
   "version": "3.10.8"
  }
 },
 "nbformat": 4,
 "nbformat_minor": 5
}
