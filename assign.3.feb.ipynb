{
 "cells": [
  {
   "cell_type": "markdown",
   "id": "6d4fbd0f-d1ba-41f8-b88a-7d62c9fcb446",
   "metadata": {},
   "source": [
    "ASSIGNMENT 03.02.2023"
   ]
  },
  {
   "cell_type": "code",
   "execution_count": 7,
   "id": "e36185a7-d87d-4acf-b20f-d80f30b5754d",
   "metadata": {},
   "outputs": [],
   "source": [
    "#Q1. 'def' is the keyword used to create a function\n",
    "n=25\n",
    "def oddlist(n):\n",
    "    l=[]\n",
    "    for i in range(n):\n",
    "        if i%2!=0:\n",
    "            l.append(i)\n",
    "    return l"
   ]
  },
  {
   "cell_type": "code",
   "execution_count": 8,
   "id": "c0fcdc5f-da74-41c8-b50d-066464e17d3d",
   "metadata": {},
   "outputs": [
    {
     "data": {
      "text/plain": [
       "[1, 3, 5, 7, 9, 11, 13, 15, 17, 19, 21, 23]"
      ]
     },
     "execution_count": 8,
     "metadata": {},
     "output_type": "execute_result"
    }
   ],
   "source": [
    "oddlist(n)"
   ]
  },
  {
   "cell_type": "code",
   "execution_count": 21,
   "id": "a400b02d-69f4-4c52-ba81-385de220fdff",
   "metadata": {},
   "outputs": [
    {
     "data": {
      "text/plain": [
       "[[2, 4, 5, 1, 3]]"
      ]
     },
     "execution_count": 21,
     "metadata": {},
     "output_type": "execute_result"
    }
   ],
   "source": [
    "#Q2.\n",
    "#  '*args' is used in python to extract a type of data like list from inside tuple\n",
    "#example\n",
    "def extract_list(*args):                  # Here i am creating a fn by name extract_list using syntax *args\n",
    "    l = []                                #and defining the fn by a code as shown    \n",
    "    for i in args:                       \n",
    "        if type(i) == list :\n",
    "            l.append(i)\n",
    "    return l                             #  so this format *args used to extract required data type \n",
    "\n",
    "extract_list([2,4,5,1,3],'pwskills',{1,2,3,4,5,6,},('a','b','c','d'))  "
   ]
  },
  {
   "cell_type": "code",
   "execution_count": 36,
   "id": "ca6a597e-a96b-4e28-9f5c-d4a5c4b4c75a",
   "metadata": {},
   "outputs": [
    {
     "data": {
      "text/plain": [
       "('tuple1', ('a', 'b', 'c', 'd'))"
      ]
     },
     "execution_count": 36,
     "metadata": {},
     "output_type": "execute_result"
    }
   ],
   "source": [
    "#similarly  **kwargs is used in python to extract a type of data like from inside tuple but using its key value\n",
    "#example\n",
    "def extract_list1(**kwargs):             # Here i am creating a fn by name extract_list using syntax **kwargs\n",
    "    for i in kwargs.keys():\n",
    "        if type(kwargs[i])==tuple:\n",
    "            return i,kwargs[i]                 #  so this format **kwargs used to extract required data type\n",
    "extract_list1(lst1=[2,4,5,1,3],lab_name='pwskills',set1={1,2,3,4,5,6,},tuple1=('a','b','c','d'))      "
   ]
  },
  {
   "cell_type": "code",
   "execution_count": 2,
   "id": "51caaf76-7284-4199-a763-59f5d108cba8",
   "metadata": {},
   "outputs": [
    {
     "name": "stdout",
     "output_type": "stream",
     "text": [
      "[2, 4, 6, 8, 10]\n"
     ]
    }
   ],
   "source": [
    "#Q3. An iterator is an object used to iterate by traversing through all the values of the object one by one\n",
    "#    iterables are implemented by iterator which return an iteratorwhen iter() is called on it.\n",
    "#  To initialise an iterator object the iter() method is used after that next() methodis used for iteration\n",
    "#    which rerurns the next value inthe iterator sequence\n",
    "#example\n",
    "list1=[2,4,6,8,10,12,14,16,18,20]\n",
    "list_iterator=iter(list1)\n",
    "first_five=[]\n",
    "for i in range(5):\n",
    "    first_five.append(next(list_iterator))\n",
    "print(first_five)    "
   ]
  },
  {
   "cell_type": "code",
   "execution_count": 5,
   "id": "3fb9af7c-205a-4e4f-a617-a70b6d988be4",
   "metadata": {},
   "outputs": [],
   "source": [
    "#Q4.generator fn is type of fn which pause its execution and return a generator object that can be iterated in \n",
    "#  order to get the next value.The yield keyword is used to return the value by the generator fn and discard its \n",
    "#  further execution at that instance\n",
    "#example\n",
    "def cube(x):\n",
    "    for i in cube(x)\n",
    "    yield x**3\n",
    "    "
   ]
  },
  {
   "cell_type": "code",
   "execution_count": 11,
   "id": "0b57fbf2-6f7d-49df-a159-7290ef224faf",
   "metadata": {},
   "outputs": [
    {
     "name": "stdout",
     "output_type": "stream",
     "text": [
      "125\n"
     ]
    }
   ],
   "source": [
    "for c in cube(5):\n",
    "    print(c)"
   ]
  },
  {
   "cell_type": "code",
   "execution_count": 39,
   "id": "8d6dc780-1f71-4ece-a46d-2e87188a2c8b",
   "metadata": {},
   "outputs": [
    {
     "name": "stdout",
     "output_type": "stream",
     "text": [
      "2 , 3 , 5 , 7 , 11 , 13 , 17 , 19 , 23 , 29 , 31 , 37 , 41 , 43 , 47 , 53 , 59 , 61 , 67 , 71 , 73 , 79 , 83 , 89 , 97 , 101 , 103 , 107 , 109 , 113 , 127 , 131 , 137 , 139 , 149 , 151 , 157 , 163 , 167 , 173 , 179 , 181 , 191 , 193 , 197 , 199 , 211 , 223 , 227 , 229 , 233 , 239 , 241 , 251 , 257 , 263 , 269 , 271 , 277 , 281 , 283 , 293 , 307 , 311 , 313 , 317 , 331 , 337 , 347 , 349 , 353 , 359 , 367 , 373 , 379 , 383 , 389 , 397 , 401 , 409 , 419 , 421 , 431 , 433 , 439 , 443 , 449 , 457 , 461 , 463 , 467 , 479 , 487 , 491 , 499 , 503 , 509 , 521 , 523 , 541 , 547 , 557 , 563 , 569 , 571 , 577 , 587 , 593 , 599 , 601 , 607 , 613 , 617 , 619 , 631 , 641 , 643 , 647 , 653 , 659 , 661 , 673 , 677 , 683 , 691 , 701 , 709 , 719 , 727 , 733 , 739 , 743 , 751 , 757 , 761 , 769 , 773 , 787 , 797 , 809 , 811 , 821 , 823 , 827 , 829 , 839 , 853 , 857 , 859 , 863 , 877 , 881 , 883 , 887 , 907 , 911 , 919 , 929 , 937 , 941 , 947 , 953 , 967 , 971 , 977 , 983 , 991 , 997 , "
     ]
    }
   ],
   "source": [
    "#Q5.prime numbers less than 1000 using generator fn\n",
    "def prime_gen(n):\n",
    "    primes=[]\n",
    "    for i in range(2,n):\n",
    "        isprime=True\n",
    "        for k in range(2,i):\n",
    "            if i%k==0:\n",
    "                isprime=False\n",
    "                break\n",
    "        if isprime:\n",
    "            primes.append(i) \n",
    "            yield i\n",
    "for prime in prime_gen(1000):\n",
    "    print(prime,end=' , ')"
   ]
  },
  {
   "cell_type": "code",
   "execution_count": 38,
   "id": "13126c8c-c32f-4842-9d95-b447fed3f895",
   "metadata": {},
   "outputs": [
    {
     "name": "stdout",
     "output_type": "stream",
     "text": [
      "2 , 3 , 5 , 7 , 11 , 13 , 17 , 19 , "
     ]
    }
   ],
   "source": [
    "#Q5\n",
    "#Prime numbers below 20\n",
    "primes_below_20 = prime_gen(20)\n",
    "while True:\n",
    "    try:\n",
    "        prime = next(primes_below_20)\n",
    "        print(prime,end=' , ')\n",
    "    except StopIteration:\n",
    "        break"
   ]
  }
 ],
 "metadata": {
  "kernelspec": {
   "display_name": "Python 3 (ipykernel)",
   "language": "python",
   "name": "python3"
  },
  "language_info": {
   "codemirror_mode": {
    "name": "ipython",
    "version": 3
   },
   "file_extension": ".py",
   "mimetype": "text/x-python",
   "name": "python",
   "nbconvert_exporter": "python",
   "pygments_lexer": "ipython3",
   "version": "3.10.8"
  }
 },
 "nbformat": 4,
 "nbformat_minor": 5
}
