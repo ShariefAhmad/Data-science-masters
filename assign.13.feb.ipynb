{
 "cells": [
  {
   "cell_type": "markdown",
   "id": "3c96596d-f095-44e4-a53d-81bd91767d6a",
   "metadata": {},
   "source": [
    "# ASSIGNMENT 13.02.2023  exception handling-2"
   ]
  },
  {
   "cell_type": "markdown",
   "id": "34b9f00b-75dc-49c7-9c7b-811ec4af3928",
   "metadata": {},
   "source": [
    "Q1. Explain why we have to use the Exception class while creating a Custom Exception. \\\n",
    "Note: Here Exception class refers to the base class for all the exceptions. \\\n",
    "we inherit the exception class while creating  Custom Exception because we want link the oops with exception handling\n",
    "to write an accurate code. here the custom exception code gets proper condtions that when to apply the condition. The\n",
    "Exception class is the base class for all built-in exceptions in Python. When we create a custom exception, we want \n",
    "it to behave like a standard Python exception. That's why we need to inherit from the Exception class. we use the Exception class while creating a Custom Exception to ensure that our exception class has all the necessary features and behaves consistently with the standard Python exceptions."
   ]
  },
  {
   "cell_type": "code",
   "execution_count": 12,
   "id": "1bc69acc-da40-4953-9c0b-0a1e78e5fedc",
   "metadata": {},
   "outputs": [
    {
     "name": "stdout",
     "output_type": "stream",
     "text": [
      "Help on class Exception in module builtins:\n",
      "\n",
      "class Exception(BaseException)\n",
      " |  Common base class for all non-exit exceptions.\n",
      " |  \n",
      " |  Method resolution order:\n",
      " |      Exception\n",
      " |      BaseException\n",
      " |      object\n",
      " |  \n",
      " |  Built-in subclasses:\n",
      " |      ArithmeticError\n",
      " |      AssertionError\n",
      " |      AttributeError\n",
      " |      BufferError\n",
      " |      ... and 15 other subclasses\n",
      " |  \n",
      " |  Methods defined here:\n",
      " |  \n",
      " |  __init__(self, /, *args, **kwargs)\n",
      " |      Initialize self.  See help(type(self)) for accurate signature.\n",
      " |  \n",
      " |  ----------------------------------------------------------------------\n",
      " |  Static methods defined here:\n",
      " |  \n",
      " |  __new__(*args, **kwargs) from builtins.type\n",
      " |      Create and return a new object.  See help(type) for accurate signature.\n",
      " |  \n",
      " |  ----------------------------------------------------------------------\n",
      " |  Methods inherited from BaseException:\n",
      " |  \n",
      " |  __delattr__(self, name, /)\n",
      " |      Implement delattr(self, name).\n",
      " |  \n",
      " |  __getattribute__(self, name, /)\n",
      " |      Return getattr(self, name).\n",
      " |  \n",
      " |  __reduce__(...)\n",
      " |      Helper for pickle.\n",
      " |  \n",
      " |  __repr__(self, /)\n",
      " |      Return repr(self).\n",
      " |  \n",
      " |  __setattr__(self, name, value, /)\n",
      " |      Implement setattr(self, name, value).\n",
      " |  \n",
      " |  __setstate__(...)\n",
      " |  \n",
      " |  __str__(self, /)\n",
      " |      Return str(self).\n",
      " |  \n",
      " |  with_traceback(...)\n",
      " |      Exception.with_traceback(tb) --\n",
      " |      set self.__traceback__ to tb and return self.\n",
      " |  \n",
      " |  ----------------------------------------------------------------------\n",
      " |  Data descriptors inherited from BaseException:\n",
      " |  \n",
      " |  __cause__\n",
      " |      exception cause\n",
      " |  \n",
      " |  __context__\n",
      " |      exception context\n",
      " |  \n",
      " |  __dict__\n",
      " |  \n",
      " |  __suppress_context__\n",
      " |  \n",
      " |  __traceback__\n",
      " |  \n",
      " |  args\n",
      "\n"
     ]
    }
   ],
   "source": [
    "# # Q2. Write a python program to print Python Exception Hierarchy.\n",
    "# To print the Python Exception Hierarchy, you can use the help() function in Python to display the documentation \n",
    "# for the built-in Exception class. Here is the code to print the Python Exception Hierarchy\n",
    "help(Exception)"
   ]
  },
  {
   "cell_type": "code",
   "execution_count": 14,
   "id": "4658edf4-0c4f-4d1c-bef6-39e06ae67823",
   "metadata": {},
   "outputs": [
    {
     "name": "stdout",
     "output_type": "stream",
     "text": [
      "this is not possible because division by zero\n"
     ]
    }
   ],
   "source": [
    "# # Q3. What errors are defined in the ArithmeticError class? Explain any two with an example.\n",
    "# The ArithmeticError class is a built-in exception class in Python that is raised when an error occurs during \n",
    "# arithmetic operations. It is the base class for a number of specific arithmetic exception classes.\n",
    "# Here are two examples of specific arithmetic exceptions that are defined in the ArithmeticError class\n",
    "\n",
    "#1. ZeroDivisionError: This exception is raised when an attempt is made to divide a number by zero.\n",
    "try:                                             #here iam taking my code inside safe error mode by starting with try\n",
    "    print(1/0)                                   #it is my code which i am unsure of being errorless\n",
    "except Exception as e:                           # if my code faulty, the exception method finds out that perticular error\n",
    "    print('this is not possible because',e)      #if code is not faulty it will print the right ans else it will print \n",
    "                                                  # the error msg generated by the exception    "
   ]
  },
  {
   "cell_type": "code",
   "execution_count": 21,
   "id": "cb69d2ad-5092-47f9-b73b-7efb0799a746",
   "metadata": {},
   "outputs": [
    {
     "name": "stdout",
     "output_type": "stream",
     "text": [
      "Error: math range error\n"
     ]
    }
   ],
   "source": [
    "# 2.OverflowError: This exception is raised when the result of an arithmetic operation is too large to be represented \n",
    "# by the data type.\n",
    "import math\n",
    "try:\n",
    "    x = math.exp(1000)\n",
    "except OverflowError as e:\n",
    "    print(\"Error:\", e)\n"
   ]
  },
  {
   "cell_type": "code",
   "execution_count": 23,
   "id": "ca3b5d9f-3b5b-46df-ab66-0316faaa727a",
   "metadata": {},
   "outputs": [
    {
     "name": "stdout",
     "output_type": "stream",
     "text": [
      "Error: 'height'\n"
     ]
    }
   ],
   "source": [
    "# # Q4. Why LookupError class is used? Explain with an example KeyError and IndexError.\n",
    "# The LookupError class is a built-in exception class in Python that is raised when a key or index lookup in a \n",
    "# collection fails. It is the base class for a number of specific lookup exception classes.\n",
    "\n",
    "# The LookupError class is used to handle errors that occur when an item cannot be found in a collection. \n",
    "# The specific exceptions that are derived from LookupError are KeyError, IndexError, and AttributeError\n",
    "\n",
    "#1. KeyError:This exception is raised when an invalid key is used to access a dictionary.\n",
    "d1={'name': 'ahmad', 'age': 25}\n",
    "try:\n",
    "    value = d1['height']       #here iam trying to pick something which doesnt exists in d1\n",
    "except KeyError as e:\n",
    "    print(\"Error:\", e)         #respective Exception exists "
   ]
  },
  {
   "cell_type": "code",
   "execution_count": 25,
   "id": "2af7f5dc-b5e4-4f2d-815f-d9973f5fdaf5",
   "metadata": {},
   "outputs": [
    {
     "name": "stdout",
     "output_type": "stream",
     "text": [
      "Error: list index out of range\n"
     ]
    }
   ],
   "source": [
    "# Q4.2IndexError: This exception is raised when an invalid index is used to access a sequence \n",
    "l = [1, 2, 3]\n",
    "try:\n",
    "    value = l[3]              # here iam tryng to take out an elements by index no. which doent exists\n",
    "except IndexError as e:\n",
    "    print(\"Error:\", e)         #respective Exception exists "
   ]
  },
  {
   "cell_type": "code",
   "execution_count": 28,
   "id": "c814b4d5-23b5-4ded-b534-6bf26be0b7c1",
   "metadata": {},
   "outputs": [
    {
     "name": "stdout",
     "output_type": "stream",
     "text": [
      "Error: No module named 'apple'\n"
     ]
    }
   ],
   "source": [
    "# # Q5. Explain ImportError. What is ModuleNotFoundError?\n",
    "#1. ImportError is raised when a module could not be imported for some reason. This can occur\n",
    "# when the module is not installed or cannot be found,or when there is an error in the module code itself.\n",
    "# example:\n",
    "try:\n",
    "    import apple\n",
    "except ImportError as e:\n",
    "    print(\"Error:\", e)"
   ]
  },
  {
   "cell_type": "code",
   "execution_count": 29,
   "id": "7b70b804-cacf-4d6b-805c-442a7c364a4c",
   "metadata": {},
   "outputs": [],
   "source": [
    "# Q5.2.ModuleNotFoundError is a subclass of ImportError that is specifically raised when a module could not be found.\n",
    "# It was introduced in Python 3.6 to provide a more specific error message than ImportError."
   ]
  },
  {
   "cell_type": "markdown",
   "id": "ed96f054-b76b-41f1-a31d-caa6468643cf",
   "metadata": {},
   "source": [
    "Q6. List down some best practices for exception handling in python. \\\n",
    "1.always try to use specific exception class \\\n",
    "2.Always print valid message using logging sothat user can understand \\\n",
    "3.Always try to log your information rather than printing things \\\n",
    "4.Try to avoid to write a multiple exception handling like doubling except statement \\\n",
    "5.prepare a proper documentation \\\n",
    "6.clean upall the resources like using finally statement toclose the code"
   ]
  },
  {
   "cell_type": "code",
   "execution_count": null,
   "id": "7eb5595f-b4e0-4f3f-a7a1-26df39c4cdcd",
   "metadata": {},
   "outputs": [],
   "source": []
  }
 ],
 "metadata": {
  "kernelspec": {
   "display_name": "Python 3 (ipykernel)",
   "language": "python",
   "name": "python3"
  },
  "language_info": {
   "codemirror_mode": {
    "name": "ipython",
    "version": 3
   },
   "file_extension": ".py",
   "mimetype": "text/x-python",
   "name": "python",
   "nbconvert_exporter": "python",
   "pygments_lexer": "ipython3",
   "version": "3.10.8"
  }
 },
 "nbformat": 4,
 "nbformat_minor": 5
}
