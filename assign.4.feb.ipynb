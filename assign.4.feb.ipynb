{
 "cells": [
  {
   "cell_type": "markdown",
   "id": "05be7fd9-cabd-4c75-bc4f-a1844ecf2f87",
   "metadata": {},
   "source": [
    "ASSIGNMENT 04.02.2023"
   ]
  },
  {
   "cell_type": "code",
   "execution_count": 1,
   "id": "0dedb834-3a9b-423e-97a0-3896161be86e",
   "metadata": {},
   "outputs": [
    {
     "name": "stdout",
     "output_type": "stream",
     "text": [
      "[('virat kohli', 24936), ('jack kallis', 25534), ('ricky ponting', 27483), ('sachine tendulkar', 34357)]\n"
     ]
    }
   ],
   "source": [
    "#Q1,sorting the given list\n",
    "l1=[('sachine tendulkar',34357), ('ricky ponting',27483), ('jack kallis',25534), ('virat kohli',24936)]\n",
    "a=sorted(l1,key=lambda x :x[1])\n",
    "print(a)"
   ]
  },
  {
   "cell_type": "code",
   "execution_count": 5,
   "id": "1e38b09f-eb61-4965-8173-8ae268077cc5",
   "metadata": {},
   "outputs": [
    {
     "data": {
      "text/plain": [
       "[1, 4, 9, 16, 25, 36, 49, 64, 81, 100]"
      ]
     },
     "execution_count": 5,
     "metadata": {},
     "output_type": "execute_result"
    }
   ],
   "source": [
    "#Q2.finding the squares of each elements\n",
    "l2=[1,2,3,4,5,6,7,8,9,10]\n",
    "list(map(lambda x : x**2,l2))"
   ]
  },
  {
   "cell_type": "code",
   "execution_count": 65,
   "id": "b6c5bfdf-391a-42c5-811c-4bd67635aea9",
   "metadata": {},
   "outputs": [
    {
     "data": {
      "text/plain": [
       "('1', '2', '3', '4', '5', '6', '7', '8', '9', '10')"
      ]
     },
     "execution_count": 65,
     "metadata": {},
     "output_type": "execute_result"
    }
   ],
   "source": [
    "#Q3. converting list to tuple of strings\n",
    "l3=[1,2,3,4,5,6,7,8,9,10]\n",
    "tuple(map(lambda x :str(x),l2))"
   ]
  },
  {
   "cell_type": "code",
   "execution_count": 57,
   "id": "95847d22-4655-4911-a070-f7c2dc244e18",
   "metadata": {},
   "outputs": [
    {
     "data": {
      "text/plain": [
       "15511210043330985984000000"
      ]
     },
     "execution_count": 57,
     "metadata": {},
     "output_type": "execute_result"
    }
   ],
   "source": [
    "#Q4.reduce function products\n",
    "l4=list(range(1,26))\n",
    "reduce(lambda x,y:x*y,l4)"
   ]
  },
  {
   "cell_type": "code",
   "execution_count": 29,
   "id": "88fc6d50-ecec-4570-994b-71a73f0101fd",
   "metadata": {},
   "outputs": [
    {
     "data": {
      "text/plain": [
       "[6, 60, 90, 120]"
      ]
     },
     "execution_count": 52,
     "metadata": {},
     "output_type": "execute_result"
    }
   ],
   "source": [
    "#Q5\n",
    "# divisible by only 2 and 3 \n",
    "l5=[2,3,6,9,27,60,90,120,55,46]\n",
    "list(filter(lambda x : x%2==0 and x%3==0 , l5))"
   ]
  },
  {
   "cell_type": "code",
   "execution_count": 30,
   "id": "68259716-cf72-414c-9d39-7cc6c054efdd",
   "metadata": {},
   "outputs": [
    {
     "data": {
      "text/plain": [
       "[2, 3, 6, 9, 27, 60, 90, 120, 46]"
      ]
     },
     "execution_count": 53,
     "metadata": {},
     "output_type": "execute_result"
    }
   ],
   "source": [
    "#Q5\n",
    "#divisible by 2 or 3\n",
    "l5=[2,3,6,9,27,60,90,120,55,46]\n",
    "list(filter(lambda x : x%2==0 or x%3==0 , l5))"
   ]
  },
  {
   "cell_type": "code",
   "execution_count": 44,
   "id": "db85cb92-a973-4ebe-9d26-4e2528a35489",
   "metadata": {},
   "outputs": [
    {
     "data": {
      "text/plain": [
       "['php', 'aba', 'radar', 'level']"
      ]
     },
     "execution_count": 44,
     "metadata": {},
     "output_type": "execute_result"
    }
   ],
   "source": [
    "#Q6 print only palindromes\n",
    "l6=['python','php','aba','radar','level']\n",
    "list(filter(lambda x: x[:]==x[::-1],l6)) "
   ]
  }
 ],
 "metadata": {
  "kernelspec": {
   "display_name": "Python 3 (ipykernel)",
   "language": "python",
   "name": "python3"
  },
  "language_info": {
   "codemirror_mode": {
    "name": "ipython",
    "version": 3
   },
   "file_extension": ".py",
   "mimetype": "text/x-python",
   "name": "python",
   "nbconvert_exporter": "python",
   "pygments_lexer": "ipython3",
   "version": "3.10.8"
  }
 },
 "nbformat": 4,
 "nbformat_minor": 5
}
