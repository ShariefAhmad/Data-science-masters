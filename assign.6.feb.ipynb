{
 "cells": [
  {
   "cell_type": "markdown",
   "id": "75e380ed-526e-4f87-9ffc-b1954ee8e025",
   "metadata": {},
   "source": [
    "ASSIGNMENT 06.02.2023"
   ]
  },
  {
   "cell_type": "code",
   "execution_count": 77,
   "id": "847ec8b9-7b6e-47d6-919d-f515fbcc5a48",
   "metadata": {},
   "outputs": [
    {
     "name": "stdout",
     "output_type": "stream",
     "text": [
      "[1, 2, 3, 4, 44, 55, 66, 34, 56, 78, 89, 34, 1, 2, 3, 1, 34, 55, 67, 78, 89, 4, 45, 22, 61, 34, 56]\n",
      "The sum of all elements in the list is: 1018\n"
     ]
    }
   ],
   "source": [
    "#Q1 exctracting all the integers and adding them up\n",
    "list1=[1,2,3,4,[44,55,66,True],False,(34,56,78,89,34),{1,2,3,3,2,1},{1:34,\"key2\":[55,67,78,89],4:(45,22,61,34)},[56,'data science'],'machine learning']\n",
    "def extract_integers(lst):\n",
    "    integers = []\n",
    "    for item in lst:\n",
    "        if isinstance(item, int):\n",
    "            integers.append(item)\n",
    "        elif isinstance(item, (list, tuple, set)):\n",
    "            integers.extend(extract_integers(item))\n",
    "        elif isinstance(item, dict):\n",
    "            for key, value in item.items():\n",
    "                if isinstance(key, int):\n",
    "                    integers.append(key)\n",
    "                if isinstance(value, int):\n",
    "                    integers.append(value)\n",
    "                elif isinstance(value, (list, tuple, set)):\n",
    "                    integers.extend(extract_integers(value))\n",
    "                elif isinstance(value, dict):\n",
    "                    integers.extend(extract_integers(value.values()))\n",
    "    return integers\n",
    "all_integers = extract_integers(list1)\n",
    "final_list = [i for i in all_integers if not isinstance(i, bool)]\n",
    "print(final_list)\n",
    "my_list = [1, 2, 3, 4, 5, 6]\n",
    "sum = 0\n",
    "for element in final_list:\n",
    "    sum += element\n",
    "print(\"The sum of all elements in the list is:\", sum)"
   ]
  }
 ],
 "metadata": {
  "kernelspec": {
   "display_name": "Python 3 (ipykernel)",
   "language": "python",
   "name": "python3"
  },
  "language_info": {
   "codemirror_mode": {
    "name": "ipython",
    "version": 3
   },
   "file_extension": ".py",
   "mimetype": "text/x-python",
   "name": "python",
   "nbconvert_exporter": "python",
   "pygments_lexer": "ipython3",
   "version": "3.10.8"
  }
 },
 "nbformat": 4,
 "nbformat_minor": 5
}
